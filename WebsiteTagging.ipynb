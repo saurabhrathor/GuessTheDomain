{
 "cells": [
  {
   "cell_type": "code",
   "execution_count": 8,
   "metadata": {},
   "outputs": [],
   "source": [
    "import pandas as pd\n",
    "import numpy as np\n",
    "import re"
   ]
  },
  {
   "cell_type": "code",
   "execution_count": 9,
   "metadata": {},
   "outputs": [],
   "source": [
    "input_data = pd.read_csv('train.csv')"
   ]
  },
  {
   "cell_type": "code",
   "execution_count": 10,
   "metadata": {},
   "outputs": [
    {
     "data": {
      "text/html": [
       "<div>\n",
       "<style scoped>\n",
       "    .dataframe tbody tr th:only-of-type {\n",
       "        vertical-align: middle;\n",
       "    }\n",
       "\n",
       "    .dataframe tbody tr th {\n",
       "        vertical-align: top;\n",
       "    }\n",
       "\n",
       "    .dataframe thead th {\n",
       "        text-align: right;\n",
       "    }\n",
       "</style>\n",
       "<table border=\"1\" class=\"dataframe\">\n",
       "  <thead>\n",
       "    <tr style=\"text-align: right;\">\n",
       "      <th></th>\n",
       "      <th>Webpage_id</th>\n",
       "      <th>Domain</th>\n",
       "      <th>Url</th>\n",
       "      <th>Tag</th>\n",
       "    </tr>\n",
       "  </thead>\n",
       "  <tbody>\n",
       "    <tr>\n",
       "      <th>0</th>\n",
       "      <td>1</td>\n",
       "      <td>www.fiercepharma.com</td>\n",
       "      <td>http://www.fiercepharma.com/marketing/tecfider...</td>\n",
       "      <td>news</td>\n",
       "    </tr>\n",
       "    <tr>\n",
       "      <th>1</th>\n",
       "      <td>2</td>\n",
       "      <td>www.fiercepharma.com</td>\n",
       "      <td>http://www.fiercepharma.com/pharma/novo-equipp...</td>\n",
       "      <td>news</td>\n",
       "    </tr>\n",
       "    <tr>\n",
       "      <th>2</th>\n",
       "      <td>3</td>\n",
       "      <td>www.fiercepharma.com</td>\n",
       "      <td>http://www.fiercepharma.com/pharma/another-exe...</td>\n",
       "      <td>news</td>\n",
       "    </tr>\n",
       "    <tr>\n",
       "      <th>3</th>\n",
       "      <td>4</td>\n",
       "      <td>www.fiercepharma.com</td>\n",
       "      <td>http://www.fiercepharma.com/pharma/teva-buy-bi...</td>\n",
       "      <td>news</td>\n",
       "    </tr>\n",
       "    <tr>\n",
       "      <th>4</th>\n",
       "      <td>5</td>\n",
       "      <td>www.fiercepharma.com</td>\n",
       "      <td>http://www.fiercepharma.com/marketing/actress-...</td>\n",
       "      <td>news</td>\n",
       "    </tr>\n",
       "  </tbody>\n",
       "</table>\n",
       "</div>"
      ],
      "text/plain": [
       "   Webpage_id                Domain  \\\n",
       "0           1  www.fiercepharma.com   \n",
       "1           2  www.fiercepharma.com   \n",
       "2           3  www.fiercepharma.com   \n",
       "3           4  www.fiercepharma.com   \n",
       "4           5  www.fiercepharma.com   \n",
       "\n",
       "                                                 Url   Tag  \n",
       "0  http://www.fiercepharma.com/marketing/tecfider...  news  \n",
       "1  http://www.fiercepharma.com/pharma/novo-equipp...  news  \n",
       "2  http://www.fiercepharma.com/pharma/another-exe...  news  \n",
       "3  http://www.fiercepharma.com/pharma/teva-buy-bi...  news  \n",
       "4  http://www.fiercepharma.com/marketing/actress-...  news  "
      ]
     },
     "execution_count": 10,
     "metadata": {},
     "output_type": "execute_result"
    }
   ],
   "source": [
    "input_data.head()"
   ]
  },
  {
   "cell_type": "code",
   "execution_count": 11,
   "metadata": {},
   "outputs": [
    {
     "data": {
      "text/plain": [
       "0    http://www.fiercepharma.com/marketing/tecfider...\n",
       "1    http://www.fiercepharma.com/pharma/novo-equipp...\n",
       "2    http://www.fiercepharma.com/pharma/another-exe...\n",
       "3    http://www.fiercepharma.com/pharma/teva-buy-bi...\n",
       "Name: Url, dtype: object"
      ]
     },
     "execution_count": 11,
     "metadata": {},
     "output_type": "execute_result"
    }
   ],
   "source": [
    "input_data['Url'][:4]"
   ]
  },
  {
   "cell_type": "code",
   "execution_count": 12,
   "metadata": {},
   "outputs": [],
   "source": [
    "url_data= input_data['Url']"
   ]
  },
  {
   "cell_type": "code",
   "execution_count": 13,
   "metadata": {},
   "outputs": [],
   "source": [
    "import re\n",
    "def clean_list(input):\n",
    "    output = []\n",
    "    for i in input:\n",
    "        text = re.sub(r\"http://\", \"\", i)\n",
    "        text = re.sub(r\"https://\", \"\", text)\n",
    "        #print(output)\n",
    "        text = text.split('/')\n",
    "        output.append(text)\n",
    "    return output"
   ]
  },
  {
   "cell_type": "code",
   "execution_count": 14,
   "metadata": {},
   "outputs": [],
   "source": [
    "url_data_pro = clean_list(url_data)"
   ]
  },
  {
   "cell_type": "code",
   "execution_count": 15,
   "metadata": {},
   "outputs": [
    {
     "data": {
      "text/plain": [
       "[['www.fiercepharma.com',\n",
       "  'marketing',\n",
       "  'tecfidera-gilenya-and-aubagio-s-3-way-battle-for-ms-share-about-to-get-more-interesting'],\n",
       " ['www.fiercepharma.com',\n",
       "  'pharma',\n",
       "  'novo-equipped-to-weather-storm-u-s-diabetes-market-ceo-says'],\n",
       " ['www.fiercepharma.com',\n",
       "  'pharma',\n",
       "  'another-exec-departs-troubled-endo-and-time-it-s-for-another-drugmaker'],\n",
       " ['www.fiercepharma.com',\n",
       "  'pharma',\n",
       "  'teva-buy-biosim-specialist-celltrion-it-wouldn-t-say-no']]"
      ]
     },
     "execution_count": 15,
     "metadata": {},
     "output_type": "execute_result"
    }
   ],
   "source": [
    "url_data_pro[:4]"
   ]
  },
  {
   "cell_type": "code",
   "execution_count": 32,
   "metadata": {},
   "outputs": [],
   "source": [
    "from keras.preprocessing import text, sequence"
   ]
  },
  {
   "cell_type": "code",
   "execution_count": 33,
   "metadata": {},
   "outputs": [],
   "source": [
    "# define network parameters\n",
    "max_features = 50000\n",
    "maxlen = 5"
   ]
  },
  {
   "cell_type": "code",
   "execution_count": 21,
   "metadata": {},
   "outputs": [],
   "source": [
    "def createVocab(field):\n",
    "    vocab = []\n",
    "    for line in field:\n",
    "        for i in line:\n",
    "            if i not in vocab:\n",
    "                vocab.append(i)\n",
    "    return vocab \n",
    " \n",
    "# generating seq IDs for words in vocabulary\n",
    "def genSeqNo(vocabulary):\n",
    "    i=1.0\n",
    "    vocab_seq = {}\n",
    "    for word in vocabulary:\n",
    "        if word not in vocab_seq:\n",
    "            vocab_seq[word] = i\n",
    "            i = i+1\n",
    "    return vocab_seq\n",
    "\n",
    "# function to replace words with its uniq seq ID\n",
    "def word2Seq(data):\n",
    "    result_seq = []\n",
    "    #max_seq = list(t_vocab_seq.items())[-1][1]\n",
    "    seq_len = []\n",
    "    for line in data:        \n",
    "        seq = []\n",
    "        curr_len = 0\n",
    "        for word in line:\n",
    "            curr_len = curr_len + 1\n",
    "            if word in t_vocab_seq:\n",
    "                seq.append(t_vocab_seq[word])\n",
    "            else:\n",
    "                seq.append(0)\n",
    "        result_seq.append(seq)    # to append seqID of line\n",
    "        seq_len.append(curr_len)  # to find and append length of line\n",
    "    return result_seq, seq_len\n",
    "\n",
    "def seqNormalize(seq, data):\n",
    "    norm_seq = []\n",
    "    max_seq = max(seq.values())\n",
    "    norm_seq[:] = [[ele / max_seq for ele in sub] for sub in data]\n",
    "    return norm_seq\n"
   ]
  },
  {
   "cell_type": "code",
   "execution_count": 22,
   "metadata": {},
   "outputs": [],
   "source": [
    "url_vocab = createVocab(url_data_pro)   # creating vocabulary \n",
    "t_vocab_seq = genSeqNo(url_vocab)       # generating seqID for each word in vocab\n",
    "url_seq, seqn_len = word2Seq(url_data_pro)    # replacing word with seqID and a list of each line_length\n",
    "url_seq_norm = seqNormalize(t_vocab_seq, url_seq)    # normalizing the seqn IDs between 0 n 1"
   ]
  },
  {
   "cell_type": "code",
   "execution_count": 23,
   "metadata": {},
   "outputs": [
    {
     "data": {
      "text/plain": [
       "[[1.0, 2.0, 3.0], [1.0, 4.0, 5.0], [1.0, 4.0, 6.0], [1.0, 4.0, 7.0]]"
      ]
     },
     "execution_count": 23,
     "metadata": {},
     "output_type": "execute_result"
    }
   ],
   "source": [
    "url_seq[:4]"
   ]
  },
  {
   "cell_type": "code",
   "execution_count": 24,
   "metadata": {},
   "outputs": [
    {
     "data": {
      "text/plain": [
       "14"
      ]
     },
     "execution_count": 24,
     "metadata": {},
     "output_type": "execute_result"
    }
   ],
   "source": [
    "max(seqn_len)"
   ]
  },
  {
   "cell_type": "code",
   "execution_count": 38,
   "metadata": {},
   "outputs": [],
   "source": [
    "import matplotlib.pyplot as plt"
   ]
  },
  {
   "cell_type": "code",
   "execution_count": 39,
   "metadata": {},
   "outputs": [
    {
     "data": {
      "image/png": "[encoded data removed]",
      "text/plain": [
       "<matplotlib.figure.Figure at 0x1872bef0>"
      ]
     },
     "metadata": {},
     "output_type": "display_data"
    }
   ],
   "source": [
    "# plotting frequency distribution of SeqnIDs\n",
    "plt.hist([seqn_len])\n",
    "plt.xticks(range(15))\n",
    "plt.show()\n",
    "# as observed from histogram, taking max_seqn_len as 10"
   ]
  },
  {
   "cell_type": "code",
   "execution_count": 26,
   "metadata": {},
   "outputs": [],
   "source": [
    "max_seq_len = 6"
   ]
  },
  {
   "cell_type": "code",
   "execution_count": 41,
   "metadata": {},
   "outputs": [
    {
     "data": {
      "text/plain": [
       "[[1.822489520685256e-05, 3.644979041370512e-05, 5.467468562055768e-05],\n",
       " [1.822489520685256e-05, 7.289958082741024e-05, 9.112447603426281e-05],\n",
       " [1.822489520685256e-05, 7.289958082741024e-05, 0.00010934937124111536],\n",
       " [1.822489520685256e-05, 7.289958082741024e-05, 0.00012757426644796792]]"
      ]
     },
     "execution_count": 41,
     "metadata": {},
     "output_type": "execute_result"
    }
   ],
   "source": [
    "url_seq_norm[:4]"
   ]
  },
  {
   "cell_type": "code",
   "execution_count": 42,
   "metadata": {},
   "outputs": [
    {
     "name": "stdout",
     "output_type": "stream",
     "text": [
      "[[1.0, 2.0, 3.0], [1.0, 4.0, 5.0], [1.0, 4.0, 6.0], [1.0, 4.0, 7.0]]\n",
      "['www.fiercepharma.com/marketing/tecfidera-gilenya-and-aubagio-s-3-way-battle-for-ms-share-about-to-get-more-interesting', 'www.fiercepharma.com/pharma/novo-equipped-to-weather-storm-u-s-diabetes-market-ceo-says', 'www.fiercepharma.com/pharma/another-exec-departs-troubled-endo-and-time-it-s-for-another-drugmaker', 'www.fiercepharma.com/pharma/teva-buy-biosim-specialist-celltrion-it-wouldn-t-say-no']\n"
     ]
    }
   ],
   "source": [
    "print(url_seq[:4])\n",
    "print(url_data_pro[:4])"
   ]
  },
  {
   "cell_type": "code",
   "execution_count": 43,
   "metadata": {},
   "outputs": [],
   "source": [
    "# padding seqn to max_seqn_length\n",
    "#url_seq_pad = sequence.pad_sequences(url_seq_norm, maxlen = max_seq_len, dtype='float32', padding='post')\n",
    "url_seq_pad = sequence.pad_sequences(url_seq, maxlen = max_seq_len, dtype='float32', padding='post')"
   ]
  },
  {
   "cell_type": "code",
   "execution_count": 44,
   "metadata": {},
   "outputs": [
    {
     "data": {
      "text/plain": [
       "array([[1., 2., 3., 0., 0., 0., 0., 0., 0., 0.],\n",
       "       [1., 4., 5., 0., 0., 0., 0., 0., 0., 0.],\n",
       "       [1., 4., 6., 0., 0., 0., 0., 0., 0., 0.],\n",
       "       [1., 4., 7., 0., 0., 0., 0., 0., 0., 0.]], dtype=float32)"
      ]
     },
     "execution_count": 44,
     "metadata": {},
     "output_type": "execute_result"
    }
   ],
   "source": [
    "url_seq_pad[:4] "
   ]
  },
  {
   "cell_type": "code",
   "execution_count": 45,
   "metadata": {},
   "outputs": [],
   "source": [
    "x = url_seq_pad\n",
    "label = np.array(input_data['Tag'])"
   ]
  },
  {
   "cell_type": "code",
   "execution_count": 46,
   "metadata": {},
   "outputs": [
    {
     "ename": "NameError",
     "evalue": "name 'y' is not defined",
     "output_type": "error",
     "traceback": [
      "\u001b[1;31m---------------------------------------------------------------------------\u001b[0m",
      "\u001b[1;31mNameError\u001b[0m                                 Traceback (most recent call last)",
      "\u001b[1;32m<ipython-input-46-dde6705cd90e>\u001b[0m in \u001b[0;36m<module>\u001b[1;34m()\u001b[0m\n\u001b[1;32m----> 1\u001b[1;33m \u001b[0mprint\u001b[0m\u001b[1;33m(\u001b[0m\u001b[0mx\u001b[0m\u001b[1;33m[\u001b[0m\u001b[1;33m:\u001b[0m\u001b[1;36m2\u001b[0m\u001b[1;33m]\u001b[0m\u001b[1;33m,\u001b[0m \u001b[0my\u001b[0m\u001b[1;33m[\u001b[0m\u001b[1;33m:\u001b[0m\u001b[1;36m2\u001b[0m\u001b[1;33m]\u001b[0m\u001b[1;33m,\u001b[0m \u001b[0mx\u001b[0m\u001b[1;33m.\u001b[0m\u001b[0mshape\u001b[0m\u001b[1;33m,\u001b[0m \u001b[0my\u001b[0m\u001b[1;33m.\u001b[0m\u001b[0mshape\u001b[0m\u001b[1;33m)\u001b[0m\u001b[1;33m\u001b[0m\u001b[0m\n\u001b[0m",
      "\u001b[1;31mNameError\u001b[0m: name 'y' is not defined"
     ]
    }
   ],
   "source": [
    "print(x[:2], y[:2], x.shape, y.shape)"
   ]
  },
  {
   "cell_type": "code",
   "execution_count": null,
   "metadata": {},
   "outputs": [],
   "source": [
    "# processing the label to 1 hot encoded.\n",
    "print(set(label))\n",
    "output = {}\n",
    "j=0\n",
    "for i in set(label):\n",
    "    print(i)\n",
    "    #output[i] = format(j, 'b').zfill(4)\n",
    "    output[i] = j\n",
    "    j = j+1\n",
    "print(output.items())"
   ]
  },
  {
   "cell_type": "code",
   "execution_count": 47,
   "metadata": {},
   "outputs": [],
   "source": [
    "# one-hot encoding via sklearn\n",
    "#https://machinelearningmastery.com/how-to-one-hot-encode-sequence-data-in-python/\n",
    "from sklearn.preprocessing import OneHotEncoder\n",
    "from sklearn.preprocessing import LabelEncoder\n",
    "# integer encode\n",
    "label_encoder = LabelEncoder()\n",
    "integer_encoded = label_encoder.fit_transform(label)\n",
    "\n",
    "\n",
    "# binary encode\n",
    "onehot_encoder = OneHotEncoder(sparse=False)\n",
    "integer_encoded = integer_encoded.reshape(len(integer_encoded), 1)\n",
    "onehot_encoded = onehot_encoder.fit_transform(integer_encoded)"
   ]
  },
  {
   "cell_type": "code",
   "execution_count": 48,
   "metadata": {},
   "outputs": [
    {
     "name": "stdout",
     "output_type": "stream",
     "text": [
      "[0. 0. 0. 0. 1. 0. 0. 0. 0.]\n"
     ]
    }
   ],
   "source": [
    "print(onehot_encoded[10])"
   ]
  },
  {
   "cell_type": "code",
   "execution_count": 49,
   "metadata": {},
   "outputs": [],
   "source": [
    "y=onehot_encoded"
   ]
  },
  {
   "cell_type": "code",
   "execution_count": 50,
   "metadata": {},
   "outputs": [
    {
     "name": "stdout",
     "output_type": "stream",
     "text": [
      "[[1. 2. 3. 0. 0. 0. 0. 0. 0. 0.]\n",
      " [1. 4. 5. 0. 0. 0. 0. 0. 0. 0.]\n",
      " [1. 4. 6. 0. 0. 0. 0. 0. 0. 0.]\n",
      " [1. 4. 7. 0. 0. 0. 0. 0. 0. 0.]] [[0. 0. 0. 0. 1. 0. 0. 0. 0.]\n",
      " [0. 0. 0. 0. 1. 0. 0. 0. 0.]\n",
      " [0. 0. 0. 0. 1. 0. 0. 0. 0.]\n",
      " [0. 0. 0. 0. 1. 0. 0. 0. 0.]]\n"
     ]
    }
   ],
   "source": [
    "print(x[:4], y[:4])"
   ]
  },
  {
   "cell_type": "code",
   "execution_count": 51,
   "metadata": {},
   "outputs": [],
   "source": [
    "# saving final processed  input n output\n",
    "np.savetxt('in_train.txt', x, fmt='%f')\n",
    "np.savetxt('out_train.txt', y, fmt='%f')"
   ]
  },
  {
   "cell_type": "code",
   "execution_count": 82,
   "metadata": {},
   "outputs": [],
   "source": [
    "# generating the model\n",
    "from keras.layers import Input, Dense, Dropout, Conv1D, Flatten\n",
    "from keras.models import Model"
   ]
  },
  {
   "cell_type": "code",
   "execution_count": 84,
   "metadata": {},
   "outputs": [
    {
     "name": "stdout",
     "output_type": "stream",
     "text": [
      "conv1 (?, 10, 9)\n",
      "dense2 (?, 10, 10)\n",
      "dense3 (?, 10, 9)\n",
      "dense6 (?, 9)\n"
     ]
    }
   ],
   "source": [
    "input_layer = Input(shape=(10,1,))\n",
    "\n",
    "z = Conv1D(9, 1, activation='relu', padding='same')(input_layer)\n",
    "print('conv1', z.shape)\n",
    "z = Dense(10, activation='relu')(z)\n",
    "print('dense2', z.shape)\n",
    "z = Dropout(0.2)(z)\n",
    "z = Dense(9, activation='relu')(z)\n",
    "print('dense3', z.shape)\n",
    "z = Dropout(0.2)(z)\n",
    "z = Flatten()(z)\n",
    "z = Dense(9, activation='softmax')(z)\n",
    "print('dense6', z.shape)\n",
    "final =z"
   ]
  },
  {
   "cell_type": "code",
   "execution_count": 85,
   "metadata": {},
   "outputs": [
    {
     "name": "stdout",
     "output_type": "stream",
     "text": [
      "<class 'numpy.ndarray'>\n",
      "<class 'numpy.ndarray'>\n",
      "(53447, 9)\n"
     ]
    }
   ],
   "source": [
    "print(type(x))\n",
    "print(type(y))\n",
    "print(y.shape)"
   ]
  },
  {
   "cell_type": "code",
   "execution_count": 86,
   "metadata": {},
   "outputs": [
    {
     "name": "stdout",
     "output_type": "stream",
     "text": [
      "_________________________________________________________________\n",
      "Layer (type)                 Output Shape              Param #   \n",
      "=================================================================\n",
      "input_7 (InputLayer)         (None, 10, 1)             0         \n",
      "_________________________________________________________________\n",
      "conv1d_7 (Conv1D)            (None, 10, 9)             18        \n",
      "_________________________________________________________________\n",
      "dense_13 (Dense)             (None, 10, 10)            100       \n",
      "_________________________________________________________________\n",
      "dropout_11 (Dropout)         (None, 10, 10)            0         \n",
      "_________________________________________________________________\n",
      "dense_14 (Dense)             (None, 10, 9)             99        \n",
      "_________________________________________________________________\n",
      "dropout_12 (Dropout)         (None, 10, 9)             0         \n",
      "_________________________________________________________________\n",
      "flatten_2 (Flatten)          (None, 90)                0         \n",
      "_________________________________________________________________\n",
      "dense_15 (Dense)             (None, 9)                 819       \n",
      "=================================================================\n",
      "Total params: 1,036\n",
      "Trainable params: 1,036\n",
      "Non-trainable params: 0\n",
      "_________________________________________________________________\n"
     ]
    }
   ],
   "source": [
    "model = Model(input_layer, final)\n",
    "model.summary()"
   ]
  },
  {
   "cell_type": "code",
   "execution_count": 89,
   "metadata": {},
   "outputs": [
    {
     "name": "stdout",
     "output_type": "stream",
     "text": [
      "(53447, 10)\n",
      "(53447, 10, 1)\n"
     ]
    }
   ],
   "source": [
    "print(x.shape)\n",
    "print(x.reshape(53447,10,1).shape)\n",
    "X_t = x.reshape(53447,10,1)\n",
    "Y_t = y.reshape(53447,9)"
   ]
  },
  {
   "cell_type": "code",
   "execution_count": null,
   "metadata": {},
   "outputs": [],
   "source": []
  },
  {
   "cell_type": "code",
   "execution_count": 90,
   "metadata": {
    "scrolled": true
   },
   "outputs": [
    {
     "name": "stdout",
     "output_type": "stream",
     "text": [
      "Training model...\n",
      "Train on 42757 samples, validate on 10690 samples\n",
      "Epoch 1/500\n",
      "42757/42757 [==============================] - 7s 168us/step - loss: 12.4983 - acc: 0.2194 - val_loss: 12.8005 - val_acc: 0.2058\n",
      "Epoch 2/500\n",
      "42757/42757 [==============================] - 4s 82us/step - loss: 10.6539 - acc: 0.3356 - val_loss: 12.7335 - val_acc: 0.2098\n",
      "Epoch 3/500\n",
      "42757/42757 [==============================] - 3s 65us/step - loss: 10.3783 - acc: 0.3540 - val_loss: 12.6968 - val_acc: 0.2086\n",
      "Epoch 4/500\n",
      "42757/42757 [==============================] - 5s 126us/step - loss: 10.0742 - acc: 0.3683 - val_loss: 12.8050 - val_acc: 0.2036\n",
      "Epoch 5/500\n",
      "42757/42757 [==============================] - 3s 82us/step - loss: 4.8888 - acc: 0.3309 - val_loss: 3.3106 - val_acc: 0.2184\n",
      "Epoch 6/500\n",
      "42757/42757 [==============================] - 3s 76us/step - loss: 1.7544 - acc: 0.3767 - val_loss: 4.6990 - val_acc: 0.2136\n",
      "Epoch 7/500\n",
      "42757/42757 [==============================] - 4s 90us/step - loss: 1.6553 - acc: 0.4214 - val_loss: 3.9485 - val_acc: 0.2098\n",
      "Epoch 8/500\n",
      "42757/42757 [==============================] - 3s 79us/step - loss: 1.5716 - acc: 0.4419 - val_loss: 4.8060 - val_acc: 0.2020\n",
      "Epoch 9/500\n",
      "42757/42757 [==============================] - 3s 74us/step - loss: 1.5051 - acc: 0.4600 - val_loss: 4.5228 - val_acc: 0.2081\n",
      "Epoch 10/500\n",
      "42757/42757 [==============================] - 6s 130us/step - loss: 1.4504 - acc: 0.4745 - val_loss: 5.9579 - val_acc: 0.2053\n",
      "Epoch 11/500\n",
      "42757/42757 [==============================] - 3s 71us/step - loss: 1.4087 - acc: 0.4849 - val_loss: 5.6200 - val_acc: 0.2069\n",
      "Epoch 12/500\n",
      "42757/42757 [==============================] - 3s 68us/step - loss: 1.3823 - acc: 0.4941 - val_loss: 5.3813 - val_acc: 0.2086\n",
      "Epoch 13/500\n",
      "42757/42757 [==============================] - 3s 73us/step - loss: 1.3505 - acc: 0.5038 - val_loss: 6.3825 - val_acc: 0.2065\n",
      "Epoch 14/500\n",
      "42757/42757 [==============================] - 3s 72us/step - loss: 1.3308 - acc: 0.5153 - val_loss: 5.9718 - val_acc: 0.2061\n",
      "Epoch 15/500\n",
      "42757/42757 [==============================] - 3s 71us/step - loss: 1.3228 - acc: 0.5157 - val_loss: 6.6384 - val_acc: 0.2041\n",
      "Epoch 16/500\n",
      "42757/42757 [==============================] - 3s 70us/step - loss: 1.2997 - acc: 0.5267 - val_loss: 6.3614 - val_acc: 0.2077\n",
      "Epoch 17/500\n",
      "42757/42757 [==============================] - 3s 68us/step - loss: 1.2740 - acc: 0.5397 - val_loss: 6.4016 - val_acc: 0.2086\n",
      "Epoch 18/500\n",
      "42757/42757 [==============================] - 3s 67us/step - loss: 1.2558 - acc: 0.5459 - val_loss: 6.2583 - val_acc: 0.2134\n",
      "Epoch 19/500\n",
      "42757/42757 [==============================] - 3s 66us/step - loss: 1.2389 - acc: 0.5500 - val_loss: 6.3377 - val_acc: 0.2152\n",
      "Epoch 20/500\n",
      "42757/42757 [==============================] - 6s 141us/step - loss: 1.2299 - acc: 0.5522 - val_loss: 6.1563 - val_acc: 0.2155\n",
      "Epoch 21/500\n",
      "42757/42757 [==============================] - 3s 71us/step - loss: 1.2192 - acc: 0.5546 - val_loss: 6.2887 - val_acc: 0.2121\n",
      "Epoch 22/500\n",
      "42757/42757 [==============================] - 3s 69us/step - loss: 1.2146 - acc: 0.5588 - val_loss: 5.9911 - val_acc: 0.2194\n",
      "Epoch 23/500\n",
      "42757/42757 [==============================] - 3s 70us/step - loss: 1.2073 - acc: 0.5611 - val_loss: 6.1596 - val_acc: 0.2186\n",
      "Epoch 24/500\n",
      "42757/42757 [==============================] - 3s 69us/step - loss: 1.1992 - acc: 0.5642 - val_loss: 5.5714 - val_acc: 0.2112\n",
      "Epoch 25/500\n",
      "42757/42757 [==============================] - 3s 72us/step - loss: 1.2048 - acc: 0.5602 - val_loss: 6.1268 - val_acc: 0.2149\n",
      "Epoch 26/500\n",
      "42757/42757 [==============================] - 3s 70us/step - loss: 1.1949 - acc: 0.5625 - val_loss: 6.4784 - val_acc: 0.2092\n",
      "Epoch 27/500\n",
      "42757/42757 [==============================] - 3s 70us/step - loss: 1.1906 - acc: 0.5675 - val_loss: 5.7755 - val_acc: 0.2174\n",
      "Epoch 28/500\n",
      "42757/42757 [==============================] - 3s 67us/step - loss: 1.1874 - acc: 0.5686 - val_loss: 6.1349 - val_acc: 0.2151\n",
      "Epoch 29/500\n",
      "42757/42757 [==============================] - 3s 68us/step - loss: 1.1761 - acc: 0.5719 - val_loss: 5.8835 - val_acc: 0.2171\n",
      "Epoch 30/500\n",
      "42757/42757 [==============================] - 6s 144us/step - loss: 1.1789 - acc: 0.5711 - val_loss: 6.5002 - val_acc: 0.2315\n",
      "Epoch 31/500\n",
      "42757/42757 [==============================] - 4s 82us/step - loss: 1.1773 - acc: 0.5709 - val_loss: 5.9507 - val_acc: 0.2169\n",
      "Epoch 32/500\n",
      "42757/42757 [==============================] - 3s 68us/step - loss: 1.1838 - acc: 0.5702 - val_loss: 6.4933 - val_acc: 0.2107\n",
      "Epoch 33/500\n",
      "42757/42757 [==============================] - 3s 68us/step - loss: 1.1711 - acc: 0.5735 - val_loss: 5.6483 - val_acc: 0.2071\n",
      "Epoch 34/500\n",
      "42757/42757 [==============================] - 6s 129us/step - loss: 1.1719 - acc: 0.5745 - val_loss: 6.5056 - val_acc: 0.2124\n",
      "Epoch 35/500\n",
      "42757/42757 [==============================] - 3s 79us/step - loss: 1.1770 - acc: 0.5726 - val_loss: 6.2882 - val_acc: 0.2122\n",
      "Epoch 36/500\n",
      "42757/42757 [==============================] - 3s 66us/step - loss: 1.1701 - acc: 0.5752 - val_loss: 6.3003 - val_acc: 0.2185\n",
      "Epoch 37/500\n",
      "42757/42757 [==============================] - 3s 67us/step - loss: 1.1695 - acc: 0.5783 - val_loss: 6.6344 - val_acc: 0.2132\n",
      "Epoch 38/500\n",
      "42757/42757 [==============================] - 6s 138us/step - loss: 1.1741 - acc: 0.5733 - val_loss: 6.2399 - val_acc: 0.2167\n",
      "Epoch 39/500\n",
      "42757/42757 [==============================] - 3s 79us/step - loss: 1.1647 - acc: 0.5747 - val_loss: 6.4057 - val_acc: 0.2135\n",
      "Epoch 40/500\n",
      "42757/42757 [==============================] - 3s 69us/step - loss: 1.1696 - acc: 0.5745 - val_loss: 6.6787 - val_acc: 0.2123\n",
      "Epoch 41/500\n",
      "42757/42757 [==============================] - 6s 131us/step - loss: 1.1720 - acc: 0.5734 - val_loss: 6.5654 - val_acc: 0.2109\n",
      "Epoch 42/500\n",
      "42757/42757 [==============================] - 3s 76us/step - loss: 1.1560 - acc: 0.5805 - val_loss: 6.3206 - val_acc: 0.2181\n",
      "Epoch 43/500\n",
      "42757/42757 [==============================] - 3s 71us/step - loss: 1.1673 - acc: 0.5766 - val_loss: 6.6054 - val_acc: 0.2088\n",
      "Epoch 44/500\n",
      "42757/42757 [==============================] - 3s 71us/step - loss: 1.1632 - acc: 0.5763 - val_loss: 6.2364 - val_acc: 0.2182\n",
      "Epoch 45/500\n",
      "42757/42757 [==============================] - 3s 70us/step - loss: 1.1640 - acc: 0.5782 - val_loss: 6.3639 - val_acc: 0.2112\n",
      "Epoch 46/500\n",
      "42757/42757 [==============================] - 3s 69us/step - loss: 1.1622 - acc: 0.5791 - val_loss: 6.6591 - val_acc: 0.2095\n",
      "Epoch 47/500\n",
      "42757/42757 [==============================] - 3s 74us/step - loss: 1.1581 - acc: 0.5806 - val_loss: 6.7389 - val_acc: 0.2094\n",
      "Epoch 48/500\n",
      "42757/42757 [==============================] - 3s 72us/step - loss: 1.1624 - acc: 0.5753 - val_loss: 6.5315 - val_acc: 0.2146\n",
      "Epoch 49/500\n",
      "42757/42757 [==============================] - 3s 73us/step - loss: 1.1597 - acc: 0.5782 - val_loss: 6.6551 - val_acc: 0.2121\n",
      "Epoch 50/500\n",
      "42757/42757 [==============================] - 3s 74us/step - loss: 1.1650 - acc: 0.5781 - val_loss: 6.4173 - val_acc: 0.2122\n",
      "Epoch 51/500\n",
      "42757/42757 [==============================] - 3s 77us/step - loss: 1.1640 - acc: 0.5752 - val_loss: 6.1991 - val_acc: 0.2153\n",
      "Epoch 52/500\n",
      "42757/42757 [==============================] - 3s 75us/step - loss: 1.1626 - acc: 0.5805 - val_loss: 6.6313 - val_acc: 0.2120\n",
      "Epoch 53/500\n",
      "42757/42757 [==============================] - 3s 72us/step - loss: 1.1576 - acc: 0.5800 - val_loss: 6.0360 - val_acc: 0.2199\n",
      "Epoch 54/500\n",
      "42757/42757 [==============================] - 3s 81us/step - loss: 1.1640 - acc: 0.5773 - val_loss: 6.7895 - val_acc: 0.2060\n",
      "Epoch 55/500\n",
      "42757/42757 [==============================] - 4s 95us/step - loss: 1.1556 - acc: 0.5815 - val_loss: 6.8022 - val_acc: 0.2080\n",
      "Epoch 56/500\n",
      "42757/42757 [==============================] - 3s 75us/step - loss: 1.1592 - acc: 0.5790 - val_loss: 6.3450 - val_acc: 0.2185\n",
      "Epoch 57/500\n",
      "42757/42757 [==============================] - 3s 72us/step - loss: 1.1576 - acc: 0.5798 - val_loss: 6.3387 - val_acc: 0.2155\n",
      "Epoch 58/500\n",
      "42757/42757 [==============================] - 3s 65us/step - loss: 1.1641 - acc: 0.5756 - val_loss: 6.4110 - val_acc: 0.2138\n",
      "Epoch 59/500\n",
      "42757/42757 [==============================] - 3s 64us/step - loss: 1.1544 - acc: 0.5802 - val_loss: 6.1020 - val_acc: 0.2186\n",
      "Epoch 60/500\n",
      "42757/42757 [==============================] - 3s 63us/step - loss: 1.1567 - acc: 0.5813 - val_loss: 6.8251 - val_acc: 0.2046\n",
      "Epoch 61/500\n",
      "42757/42757 [==============================] - 3s 72us/step - loss: 1.1597 - acc: 0.5789 - val_loss: 6.5330 - val_acc: 0.2139\n",
      "Epoch 62/500\n",
      "42757/42757 [==============================] - 4s 95us/step - loss: 1.1536 - acc: 0.5802 - val_loss: 6.3516 - val_acc: 0.2153\n",
      "Epoch 63/500\n",
      "42757/42757 [==============================] - 6s 138us/step - loss: 1.1569 - acc: 0.5806 - val_loss: 6.2510 - val_acc: 0.2127\n",
      "Epoch 64/500\n",
      "42757/42757 [==============================] - 7s 166us/step - loss: 1.1573 - acc: 0.5824 - val_loss: 5.9727 - val_acc: 0.2153\n",
      "Epoch 65/500\n",
      "42757/42757 [==============================] - 3s 74us/step - loss: 1.1556 - acc: 0.5827 - val_loss: 6.2924 - val_acc: 0.2152\n",
      "Epoch 66/500\n",
      "42757/42757 [==============================] - 3s 72us/step - loss: 1.1520 - acc: 0.5797 - val_loss: 6.2713 - val_acc: 0.2145\n",
      "Epoch 67/500\n",
      "42757/42757 [==============================] - 3s 74us/step - loss: 1.1584 - acc: 0.5807 - val_loss: 6.3884 - val_acc: 0.2154\n",
      "Epoch 68/500\n",
      "42757/42757 [==============================] - 4s 90us/step - loss: 1.1518 - acc: 0.5818 - val_loss: 5.9202 - val_acc: 0.2210\n",
      "Epoch 69/500\n",
      "42757/42757 [==============================] - 4s 93us/step - loss: 1.1596 - acc: 0.5785 - val_loss: 6.3913 - val_acc: 0.2125\n",
      "Epoch 70/500\n",
      "42757/42757 [==============================] - 3s 67us/step - loss: 1.1544 - acc: 0.5822 - val_loss: 5.6959 - val_acc: 0.2101\n",
      "Epoch 71/500\n",
      "42757/42757 [==============================] - 3s 69us/step - loss: 1.1594 - acc: 0.5794 - val_loss: 6.1839 - val_acc: 0.2104\n",
      "Epoch 72/500\n",
      "42757/42757 [==============================] - 4s 88us/step - loss: 1.1588 - acc: 0.5785 - val_loss: 6.4105 - val_acc: 0.2132\n",
      "Epoch 73/500\n",
      "42757/42757 [==============================] - 4s 94us/step - loss: 1.1532 - acc: 0.5837 - val_loss: 5.9965 - val_acc: 0.2159.15\n",
      "Epoch 74/500\n",
      "42757/42757 [==============================] - 3s 80us/step - loss: 1.1605 - acc: 0.5789 - val_loss: 6.3727 - val_acc: 0.2138\n",
      "Epoch 75/500\n",
      "42757/42757 [==============================] - 5s 128us/step - loss: 1.1557 - acc: 0.5828 - val_loss: 6.2771 - val_acc: 0.2165\n",
      "Epoch 76/500\n",
      "42757/42757 [==============================] - 4s 83us/step - loss: 1.1603 - acc: 0.5811 - val_loss: 6.1848 - val_acc: 0.2167\n",
      "Epoch 77/500\n",
      "42757/42757 [==============================] - 3s 72us/step - loss: 1.1493 - acc: 0.5838 - val_loss: 6.6005 - val_acc: 0.2139\n",
      "Epoch 78/500\n",
      "42757/42757 [==============================] - 3s 73us/step - loss: 1.1600 - acc: 0.5791 - val_loss: 6.5422 - val_acc: 0.2132\n",
      "Epoch 79/500\n",
      "42757/42757 [==============================] - 3s 79us/step - loss: 1.1557 - acc: 0.5817 - val_loss: 6.1478 - val_acc: 0.2111\n",
      "Epoch 80/500\n",
      "42757/42757 [==============================] - 3s 70us/step - loss: 1.1636 - acc: 0.5809 - val_loss: 6.3111 - val_acc: 0.2089\n",
      "Epoch 81/500\n",
      "42757/42757 [==============================] - 3s 69us/step - loss: 1.1603 - acc: 0.5822 - val_loss: 6.7096 - val_acc: 0.2129\n",
      "Epoch 82/500\n",
      "42757/42757 [==============================] - 3s 69us/step - loss: 1.1536 - acc: 0.5826 - val_loss: 6.5181 - val_acc: 0.2134\n",
      "Epoch 83/500\n",
      "42757/42757 [==============================] - 3s 72us/step - loss: 1.1559 - acc: 0.5827 - val_loss: 6.4476 - val_acc: 0.2036\n",
      "Epoch 84/500\n",
      "42757/42757 [==============================] - 4s 84us/step - loss: 1.1461 - acc: 0.5834 - val_loss: 6.5645 - val_acc: 0.2149\n",
      "Epoch 85/500\n",
      "42757/42757 [==============================] - 3s 73us/step - loss: 1.1549 - acc: 0.5843 - val_loss: 6.3426 - val_acc: 0.2125\n",
      "Epoch 86/500\n",
      "42757/42757 [==============================] - 3s 74us/step - loss: 1.1514 - acc: 0.5831 - val_loss: 6.0366 - val_acc: 0.2067\n",
      "Epoch 87/500\n",
      "42757/42757 [==============================] - 3s 72us/step - loss: 1.1580 - acc: 0.5796 - val_loss: 6.0867 - val_acc: 0.2142\n",
      "Epoch 88/500\n",
      "42757/42757 [==============================] - 3s 72us/step - loss: 1.1625 - acc: 0.5795 - val_loss: 5.9217 - val_acc: 0.2123\n",
      "Epoch 89/500\n",
      "42757/42757 [==============================] - 4s 84us/step - loss: 1.1598 - acc: 0.5834 - val_loss: 6.6420 - val_acc: 0.2149\n",
      "Epoch 90/500\n",
      "42757/42757 [==============================] - 3s 75us/step - loss: 1.1522 - acc: 0.5827 - val_loss: 6.4252 - val_acc: 0.2169\n",
      "Epoch 91/500\n",
      "42757/42757 [==============================] - 4s 89us/step - loss: 1.1581 - acc: 0.5814 - val_loss: 6.5075 - val_acc: 0.2125\n",
      "Epoch 92/500\n",
      "42757/42757 [==============================] - 3s 67us/step - loss: 1.1450 - acc: 0.5865 - val_loss: 6.5369 - val_acc: 0.2156\n",
      "Epoch 93/500\n",
      "42757/42757 [==============================] - 3s 70us/step - loss: 1.1631 - acc: 0.5785 - val_loss: 6.2423 - val_acc: 0.2173\n",
      "Epoch 94/500\n",
      "42757/42757 [==============================] - 3s 68us/step - loss: 1.1520 - acc: 0.5834 - val_loss: 6.1324 - val_acc: 0.2144\n",
      "Epoch 95/500\n",
      "42757/42757 [==============================] - 3s 71us/step - loss: 1.1544 - acc: 0.5814 - val_loss: 6.7474 - val_acc: 0.2089\n",
      "Epoch 96/500\n",
      "42757/42757 [==============================] - 3s 69us/step - loss: 1.1605 - acc: 0.5814 - val_loss: 6.6909 - val_acc: 0.2112\n",
      "Epoch 97/500\n",
      "42757/42757 [==============================] - 3s 69us/step - loss: 1.1482 - acc: 0.5825 - val_loss: 6.2286 - val_acc: 0.2160\n",
      "Epoch 98/500\n",
      "42757/42757 [==============================] - 3s 70us/step - loss: 1.1539 - acc: 0.5848 - val_loss: 7.0254 - val_acc: 0.2081\n",
      "Epoch 99/500\n",
      "42757/42757 [==============================] - 3s 68us/step - loss: 1.1501 - acc: 0.5853 - val_loss: 6.6200 - val_acc: 0.2115\n",
      "Epoch 100/500\n",
      "42757/42757 [==============================] - 3s 69us/step - loss: 1.1475 - acc: 0.5844 - val_loss: 6.3550 - val_acc: 0.2175\n",
      "Epoch 101/500\n",
      "42757/42757 [==============================] - 3s 69us/step - loss: 1.1618 - acc: 0.5823 - val_loss: 6.5067 - val_acc: 0.2096\n",
      "Epoch 102/500\n",
      "42757/42757 [==============================] - 4s 86us/step - loss: 1.1501 - acc: 0.5863 - val_loss: 6.2583 - val_acc: 0.2102\n",
      "Epoch 103/500\n",
      "42757/42757 [==============================] - 3s 74us/step - loss: 1.1552 - acc: 0.5834 - val_loss: 6.4449 - val_acc: 0.2122\n",
      "Epoch 104/500\n",
      "42757/42757 [==============================] - 4s 101us/step - loss: 1.1571 - acc: 0.5804 - val_loss: 6.0812 - val_acc: 0.2124\n",
      "Epoch 105/500\n",
      "42757/42757 [==============================] - 3s 77us/step - loss: 1.1568 - acc: 0.5815 - val_loss: 6.4948 - val_acc: 0.2115\n",
      "Epoch 106/500\n",
      "42757/42757 [==============================] - 3s 74us/step - loss: 1.1579 - acc: 0.5824 - val_loss: 6.0737 - val_acc: 0.2175\n",
      "Epoch 107/500\n",
      "42757/42757 [==============================] - 3s 74us/step - loss: 1.1516 - acc: 0.5851 - val_loss: 6.2680 - val_acc: 0.2141\n",
      "Epoch 108/500\n",
      "42757/42757 [==============================] - 4s 92us/step - loss: 1.1493 - acc: 0.5836 - val_loss: 6.0317 - val_acc: 0.2108\n",
      "Epoch 109/500\n",
      "42757/42757 [==============================] - 4s 86us/step - loss: 1.1493 - acc: 0.5862 - val_loss: 6.3536 - val_acc: 0.2141\n",
      "Epoch 110/500\n",
      "42757/42757 [==============================] - 3s 76us/step - loss: 1.1444 - acc: 0.5873 - val_loss: 6.1089 - val_acc: 0.2148\n",
      "Epoch 111/500\n",
      "42757/42757 [==============================] - 3s 73us/step - loss: 1.1435 - acc: 0.5894 - val_loss: 6.4217 - val_acc: 0.2153\n",
      "Epoch 112/500\n",
      "42757/42757 [==============================] - 4s 87us/step - loss: 1.1504 - acc: 0.5873 - val_loss: 6.2514 - val_acc: 0.2152\n",
      "Epoch 113/500\n",
      "42757/42757 [==============================] - 3s 74us/step - loss: 1.1498 - acc: 0.5847 - val_loss: 6.5009 - val_acc: 0.2138\n",
      "Epoch 114/500\n",
      "42757/42757 [==============================] - 3s 76us/step - loss: 1.1471 - acc: 0.5904 - val_loss: 6.4020 - val_acc: 0.2114\n",
      "Epoch 115/500\n",
      "42757/42757 [==============================] - 3s 79us/step - loss: 1.1441 - acc: 0.5886 - val_loss: 6.6314 - val_acc: 0.2160\n",
      "Epoch 116/500\n",
      "42757/42757 [==============================] - 3s 71us/step - loss: 1.1386 - acc: 0.5896 - val_loss: 6.3264 - val_acc: 0.2161\n",
      "Epoch 117/500\n",
      "42757/42757 [==============================] - 4s 91us/step - loss: 1.1464 - acc: 0.5890 - val_loss: 6.1571 - val_acc: 0.2093\n"
     ]
    },
    {
     "name": "stdout",
     "output_type": "stream",
     "text": [
      "Epoch 118/500\n",
      "42757/42757 [==============================] - 3s 77us/step - loss: 1.1449 - acc: 0.5883 - val_loss: 6.3518 - val_acc: 0.2120\n",
      "Epoch 119/500\n",
      "42757/42757 [==============================] - 3s 78us/step - loss: 1.1411 - acc: 0.5876 - val_loss: 6.2826 - val_acc: 0.2058\n",
      "Epoch 120/500\n",
      "42757/42757 [==============================] - 3s 76us/step - loss: 1.1628 - acc: 0.5833 - val_loss: 6.3161 - val_acc: 0.2043\n",
      "Epoch 121/500\n",
      "42757/42757 [==============================] - 4s 88us/step - loss: 1.1370 - acc: 0.5909 - val_loss: 6.2817 - val_acc: 0.2154\n",
      "Epoch 122/500\n",
      "42757/42757 [==============================] - 3s 81us/step - loss: 1.1400 - acc: 0.5902 - val_loss: 6.4867 - val_acc: 0.2117\n",
      "Epoch 123/500\n",
      "42757/42757 [==============================] - 3s 72us/step - loss: 1.1421 - acc: 0.5918 - val_loss: 6.4059 - val_acc: 0.2092\n",
      "Epoch 124/500\n",
      "42757/42757 [==============================] - 4s 88us/step - loss: 1.1548 - acc: 0.5852 - val_loss: 6.2726 - val_acc: 0.2096\n",
      "Epoch 125/500\n",
      "42757/42757 [==============================] - 4s 96us/step - loss: 1.1325 - acc: 0.5938 - val_loss: 6.9420 - val_acc: 0.2108\n",
      "Epoch 126/500\n",
      "42757/42757 [==============================] - 3s 69us/step - loss: 1.1341 - acc: 0.5900 - val_loss: 7.2180 - val_acc: 0.2082\n",
      "Epoch 127/500\n",
      "42757/42757 [==============================] - 3s 75us/step - loss: 1.1413 - acc: 0.5913 - val_loss: 6.3668 - val_acc: 0.2038\n",
      "Epoch 128/500\n",
      "42757/42757 [==============================] - 3s 72us/step - loss: 1.1392 - acc: 0.5919 - val_loss: 5.8237 - val_acc: 0.2021\n",
      "Epoch 129/500\n",
      "42757/42757 [==============================] - 3s 68us/step - loss: 1.1352 - acc: 0.5930 - val_loss: 6.8186 - val_acc: 0.2129\n",
      "Epoch 130/500\n",
      "42757/42757 [==============================] - 3s 71us/step - loss: 1.1364 - acc: 0.5936 - val_loss: 6.5230 - val_acc: 0.2101\n",
      "Epoch 131/500\n",
      "42757/42757 [==============================] - 4s 89us/step - loss: 1.1308 - acc: 0.5950 - val_loss: 6.5606 - val_acc: 0.2123\n",
      "Epoch 132/500\n",
      "42757/42757 [==============================] - 3s 74us/step - loss: 1.1385 - acc: 0.5925 - val_loss: 6.5460 - val_acc: 0.2094\n",
      "Epoch 133/500\n",
      "42757/42757 [==============================] - 3s 71us/step - loss: 1.1385 - acc: 0.5913 - val_loss: 6.3314 - val_acc: 0.2115\n",
      "Epoch 134/500\n",
      "42757/42757 [==============================] - 3s 79us/step - loss: 1.1398 - acc: 0.5920 - val_loss: 6.4180 - val_acc: 0.2132\n",
      "Epoch 135/500\n",
      "42757/42757 [==============================] - 3s 74us/step - loss: 1.1313 - acc: 0.5926 - val_loss: 6.4308 - val_acc: 0.2133\n",
      "Epoch 136/500\n",
      "42757/42757 [==============================] - 3s 66us/step - loss: 1.1385 - acc: 0.5937 - val_loss: 6.8664 - val_acc: 0.2101\n",
      "Epoch 137/500\n",
      "42757/42757 [==============================] - 3s 62us/step - loss: 1.1441 - acc: 0.5905 - val_loss: 6.8571 - val_acc: 0.2083\n",
      "Epoch 138/500\n",
      "42757/42757 [==============================] - 3s 66us/step - loss: 1.1347 - acc: 0.5933 - val_loss: 7.2041 - val_acc: 0.2097\n",
      "Epoch 139/500\n",
      "42757/42757 [==============================] - 3s 76us/step - loss: 1.1353 - acc: 0.5926 - val_loss: 7.0697 - val_acc: 0.2087\n",
      "Epoch 140/500\n",
      "42757/42757 [==============================] - 3s 64us/step - loss: 1.1349 - acc: 0.5927 - val_loss: 6.6343 - val_acc: 0.2123\n",
      "Epoch 141/500\n",
      "42757/42757 [==============================] - 3s 62us/step - loss: 1.1393 - acc: 0.5954 - val_loss: 6.6263 - val_acc: 0.2130\n",
      "Epoch 142/500\n",
      "42757/42757 [==============================] - 3s 67us/step - loss: 1.1405 - acc: 0.5911 - val_loss: 6.8264 - val_acc: 0.2133\n",
      "Epoch 143/500\n",
      "42757/42757 [==============================] - 6s 148us/step - loss: 1.1438 - acc: 0.5926 - val_loss: 6.1302 - val_acc: 0.2095\n",
      "Epoch 144/500\n",
      "42757/42757 [==============================] - 3s 68us/step - loss: 1.1426 - acc: 0.5919 - val_loss: 6.7689 - val_acc: 0.2101\n",
      "Epoch 145/500\n",
      "42757/42757 [==============================] - 3s 63us/step - loss: 1.1388 - acc: 0.5940 - val_loss: 6.5735 - val_acc: 0.2141\n",
      "Epoch 146/500\n",
      "42757/42757 [==============================] - 6s 141us/step - loss: 1.1362 - acc: 0.5916 - val_loss: 6.6601 - val_acc: 0.2125\n",
      "Epoch 147/500\n",
      "42757/42757 [==============================] - 3s 67us/step - loss: 1.1301 - acc: 0.5960 - val_loss: 6.8043 - val_acc: 0.2119\n",
      "Epoch 148/500\n",
      "42757/42757 [==============================] - 3s 65us/step - loss: 1.1366 - acc: 0.5950 - val_loss: 6.9789 - val_acc: 0.2087\n",
      "Epoch 149/500\n",
      "42757/42757 [==============================] - 3s 70us/step - loss: 1.1338 - acc: 0.5959 - val_loss: 6.9883 - val_acc: 0.2101\n",
      "Epoch 150/500\n",
      "42757/42757 [==============================] - 3s 71us/step - loss: 1.1255 - acc: 0.5959 - val_loss: 6.3196 - val_acc: 0.2125\n",
      "Epoch 151/500\n",
      "42757/42757 [==============================] - 3s 75us/step - loss: 1.1307 - acc: 0.5959 - val_loss: 7.1295 - val_acc: 0.2137\n",
      "Epoch 152/500\n",
      "42757/42757 [==============================] - 3s 65us/step - loss: 1.1327 - acc: 0.5956 - val_loss: 7.1311 - val_acc: 0.2120\n",
      "Epoch 153/500\n",
      "42757/42757 [==============================] - 3s 66us/step - loss: 1.1338 - acc: 0.5942 - val_loss: 6.7998 - val_acc: 0.2118\n",
      "Epoch 154/500\n",
      "42757/42757 [==============================] - 3s 73us/step - loss: 1.1346 - acc: 0.5958 - val_loss: 6.8305 - val_acc: 0.2137\n",
      "Epoch 155/500\n",
      "42757/42757 [==============================] - 3s 68us/step - loss: 1.1317 - acc: 0.5944 - val_loss: 6.7096 - val_acc: 0.2103\n",
      "Epoch 156/500\n",
      "42757/42757 [==============================] - 4s 83us/step - loss: 1.1341 - acc: 0.5956 - val_loss: 6.4653 - val_acc: 0.2171\n",
      "Epoch 157/500\n",
      "42757/42757 [==============================] - 4s 89us/step - loss: 1.1382 - acc: 0.5904 - val_loss: 6.2419 - val_acc: 0.2135\n",
      "Epoch 158/500\n",
      "42757/42757 [==============================] - 4s 83us/step - loss: 1.1368 - acc: 0.5944 - val_loss: 6.3634 - val_acc: 0.2146\n",
      "Epoch 159/500\n",
      "42757/42757 [==============================] - 4s 87us/step - loss: 1.1371 - acc: 0.5926 - val_loss: 6.3288 - val_acc: 0.2181\n",
      "Epoch 160/500\n",
      "42757/42757 [==============================] - 3s 73us/step - loss: 1.1270 - acc: 0.5997 - val_loss: 6.5393 - val_acc: 0.2111\n",
      "Epoch 161/500\n",
      "42757/42757 [==============================] - 3s 69us/step - loss: 1.1263 - acc: 0.5972 - val_loss: 6.6304 - val_acc: 0.2129\n",
      "Epoch 162/500\n",
      "42757/42757 [==============================] - 3s 76us/step - loss: 1.1457 - acc: 0.5919 - val_loss: 6.9673 - val_acc: 0.2067\n",
      "Epoch 163/500\n",
      "42757/42757 [==============================] - 3s 74us/step - loss: 1.1340 - acc: 0.5917 - val_loss: 6.7932 - val_acc: 0.2126\n",
      "Epoch 164/500\n",
      "42757/42757 [==============================] - 3s 63us/step - loss: 1.1291 - acc: 0.6008 - val_loss: 6.7549 - val_acc: 0.2140\n",
      "Epoch 165/500\n",
      "42757/42757 [==============================] - 3s 70us/step - loss: 1.1333 - acc: 0.5939 - val_loss: 7.0413 - val_acc: 0.2097\n",
      "Epoch 166/500\n",
      "42757/42757 [==============================] - 3s 62us/step - loss: 1.1386 - acc: 0.5917 - val_loss: 6.6960 - val_acc: 0.2134\n",
      "Epoch 167/500\n",
      "42757/42757 [==============================] - 3s 62us/step - loss: 1.1330 - acc: 0.5977 - val_loss: 6.7117 - val_acc: 0.2132\n",
      "Epoch 168/500\n",
      "42757/42757 [==============================] - 3s 63us/step - loss: 1.1282 - acc: 0.5970 - val_loss: 6.4680 - val_acc: 0.2138\n",
      "Epoch 169/500\n",
      "42757/42757 [==============================] - 4s 100us/step - loss: 1.1306 - acc: 0.5962 - val_loss: 6.9713 - val_acc: 0.2128\n",
      "Epoch 170/500\n",
      "42757/42757 [==============================] - 3s 78us/step - loss: 1.1414 - acc: 0.5925 - val_loss: 6.3480 - val_acc: 0.2166\n",
      "Epoch 171/500\n",
      "42757/42757 [==============================] - 7s 154us/step - loss: 1.1297 - acc: 0.5958 - val_loss: 6.6393 - val_acc: 0.2137\n",
      "Epoch 172/500\n",
      "42757/42757 [==============================] - 5s 110us/step - loss: 1.1346 - acc: 0.5941 - val_loss: 6.9017 - val_acc: 0.2124\n",
      "Epoch 173/500\n",
      "42757/42757 [==============================] - 4s 89us/step - loss: 1.1333 - acc: 0.5929 - val_loss: 6.3613 - val_acc: 0.2119\n",
      "Epoch 174/500\n",
      "42757/42757 [==============================] - 4s 103us/step - loss: 1.1322 - acc: 0.5964 - val_loss: 6.4529 - val_acc: 0.2160\n",
      "Epoch 175/500\n",
      "42757/42757 [==============================] - 5s 114us/step - loss: 1.1387 - acc: 0.5943 - val_loss: 6.7714 - val_acc: 0.2076\n",
      "Epoch 176/500\n",
      "42757/42757 [==============================] - 4s 101us/step - loss: 1.1292 - acc: 0.5954 - val_loss: 6.6164 - val_acc: 0.2138\n",
      "Epoch 177/500\n",
      "42757/42757 [==============================] - 3s 70us/step - loss: 1.1344 - acc: 0.5954 - val_loss: 6.4594 - val_acc: 0.2129\n",
      "Epoch 178/500\n",
      "42757/42757 [==============================] - 3s 76us/step - loss: 1.1391 - acc: 0.5929 - val_loss: 7.0270 - val_acc: 0.2110\n",
      "Epoch 179/500\n",
      "42757/42757 [==============================] - 6s 138us/step - loss: 1.1365 - acc: 0.5954 - val_loss: 7.1776 - val_acc: 0.2120\n",
      "Epoch 180/500\n",
      "42757/42757 [==============================] - 3s 77us/step - loss: 1.1360 - acc: 0.5962 - val_loss: 6.2642 - val_acc: 0.2137\n",
      "Epoch 181/500\n",
      "42757/42757 [==============================] - 3s 74us/step - loss: 1.1328 - acc: 0.5941 - val_loss: 6.5780 - val_acc: 0.2146\n",
      "Epoch 182/500\n",
      "42757/42757 [==============================] - 3s 82us/step - loss: 1.1334 - acc: 0.5937 - val_loss: 6.4379 - val_acc: 0.2133\n",
      "Epoch 183/500\n",
      "42757/42757 [==============================] - 3s 67us/step - loss: 1.1383 - acc: 0.5933 - val_loss: 6.8104 - val_acc: 0.2127\n",
      "Epoch 184/500\n",
      "42757/42757 [==============================] - 3s 65us/step - loss: 1.1304 - acc: 0.5968 - val_loss: 6.8164 - val_acc: 0.2067\n",
      "Epoch 185/500\n",
      "42757/42757 [==============================] - 3s 64us/step - loss: 1.1355 - acc: 0.5971 - val_loss: 6.2566 - val_acc: 0.2137\n",
      "Epoch 186/500\n",
      "42757/42757 [==============================] - 3s 72us/step - loss: 1.1351 - acc: 0.5956 - val_loss: 6.6747 - val_acc: 0.2139\n",
      "Epoch 187/500\n",
      "42757/42757 [==============================] - 3s 74us/step - loss: 1.1369 - acc: 0.5940 - val_loss: 6.6045 - val_acc: 0.2125\n",
      "Epoch 188/500\n",
      "42757/42757 [==============================] - 3s 64us/step - loss: 1.1438 - acc: 0.5919 - val_loss: 6.2089 - val_acc: 0.2146\n",
      "Epoch 189/500\n",
      "42757/42757 [==============================] - 3s 64us/step - loss: 1.1305 - acc: 0.5965 - val_loss: 7.0404 - val_acc: 0.2114\n",
      "Epoch 190/500\n",
      "42757/42757 [==============================] - 3s 66us/step - loss: 1.1318 - acc: 0.5977 - val_loss: 6.7380 - val_acc: 0.2149\n",
      "Epoch 191/500\n",
      "42757/42757 [==============================] - 3s 70us/step - loss: 1.1385 - acc: 0.5942 - val_loss: 6.7668 - val_acc: 0.2135\n",
      "Epoch 192/500\n",
      "42757/42757 [==============================] - 5s 127us/step - loss: 1.1385 - acc: 0.5927 - val_loss: 6.4513 - val_acc: 0.2153\n",
      "Epoch 193/500\n",
      "42757/42757 [==============================] - 3s 80us/step - loss: 1.1309 - acc: 0.5967 - val_loss: 6.6848 - val_acc: 0.2115\n",
      "Epoch 194/500\n",
      "42757/42757 [==============================] - 3s 66us/step - loss: 1.1396 - acc: 0.5915 - val_loss: 6.2127 - val_acc: 0.2109\n",
      "Epoch 195/500\n",
      "42757/42757 [==============================] - 3s 76us/step - loss: 1.1414 - acc: 0.5914 - val_loss: 7.2436 - val_acc: 0.2094\n",
      "Epoch 196/500\n",
      "42757/42757 [==============================] - 4s 93us/step - loss: 1.1326 - acc: 0.5964 - val_loss: 6.7276 - val_acc: 0.2144\n",
      "Epoch 197/500\n",
      "42757/42757 [==============================] - 6s 141us/step - loss: 1.1311 - acc: 0.5969 - val_loss: 7.5657 - val_acc: 0.2084\n",
      "Epoch 198/500\n",
      "42757/42757 [==============================] - 3s 67us/step - loss: 1.1436 - acc: 0.5936 - val_loss: 6.4440 - val_acc: 0.2136\n",
      "Epoch 199/500\n",
      "42757/42757 [==============================] - 5s 108us/step - loss: 1.1385 - acc: 0.5961 - val_loss: 6.8383 - val_acc: 0.2106\n",
      "Epoch 200/500\n",
      "42757/42757 [==============================] - 3s 67us/step - loss: 1.1333 - acc: 0.5961 - val_loss: 6.5865 - val_acc: 0.2130\n",
      "Epoch 201/500\n",
      "42757/42757 [==============================] - 4s 91us/step - loss: 1.1298 - acc: 0.5969 - val_loss: 6.5652 - val_acc: 0.2158\n",
      "Epoch 202/500\n",
      "42757/42757 [==============================] - 4s 82us/step - loss: 1.1343 - acc: 0.5958 - val_loss: 6.4089 - val_acc: 0.2144\n",
      "Epoch 203/500\n",
      "42757/42757 [==============================] - 4s 83us/step - loss: 1.1364 - acc: 0.5979 - val_loss: 6.3578 - val_acc: 0.2106\n",
      "Epoch 204/500\n",
      "42757/42757 [==============================] - 3s 73us/step - loss: 1.1305 - acc: 0.5985 - val_loss: 6.8247 - val_acc: 0.2099\n",
      "Epoch 205/500\n",
      "42757/42757 [==============================] - 3s 70us/step - loss: 1.1332 - acc: 0.5986 - val_loss: 6.8432 - val_acc: 0.2123\n",
      "Epoch 206/500\n",
      "42757/42757 [==============================] - 3s 66us/step - loss: 1.1516 - acc: 0.5916 - val_loss: 6.6915 - val_acc: 0.2138\n",
      "Epoch 207/500\n",
      "42757/42757 [==============================] - 4s 82us/step - loss: 1.1416 - acc: 0.5958 - val_loss: 6.6877 - val_acc: 0.2121\n",
      "Epoch 208/500\n",
      "42757/42757 [==============================] - 3s 67us/step - loss: 1.1335 - acc: 0.5978 - val_loss: 7.0007 - val_acc: 0.2132\n",
      "Epoch 209/500\n",
      "42757/42757 [==============================] - 3s 71us/step - loss: 1.1517 - acc: 0.5910 - val_loss: 6.1726 - val_acc: 0.2138\n",
      "Epoch 210/500\n",
      "42757/42757 [==============================] - 3s 69us/step - loss: 1.1400 - acc: 0.5949 - val_loss: 6.4516 - val_acc: 0.2119\n",
      "Epoch 211/500\n",
      "42757/42757 [==============================] - 3s 65us/step - loss: 1.1389 - acc: 0.5957 - val_loss: 6.6051 - val_acc: 0.2116\n",
      "Epoch 212/500\n",
      "42757/42757 [==============================] - 4s 84us/step - loss: 1.1416 - acc: 0.5947 - val_loss: 6.5809 - val_acc: 0.2085\n",
      "Epoch 213/500\n",
      "42757/42757 [==============================] - 3s 77us/step - loss: 1.1367 - acc: 0.5953 - val_loss: 6.7735 - val_acc: 0.2155\n",
      "Epoch 214/500\n",
      "42757/42757 [==============================] - 3s 64us/step - loss: 1.1356 - acc: 0.5960 - val_loss: 6.3550 - val_acc: 0.2141\n",
      "Epoch 215/500\n",
      "42757/42757 [==============================] - 3s 72us/step - loss: 1.1361 - acc: 0.5959 - val_loss: 6.6992 - val_acc: 0.2145\n",
      "Epoch 216/500\n",
      "42757/42757 [==============================] - 3s 71us/step - loss: 1.1394 - acc: 0.5941 - val_loss: 6.8594 - val_acc: 0.2127\n",
      "Epoch 217/500\n",
      "42757/42757 [==============================] - 3s 73us/step - loss: 1.1466 - acc: 0.5957 - val_loss: 7.3107 - val_acc: 0.2093\n",
      "Epoch 218/500\n",
      "42757/42757 [==============================] - 3s 67us/step - loss: 1.1269 - acc: 0.5980 - val_loss: 6.3749 - val_acc: 0.2161\n",
      "Epoch 219/500\n",
      "42757/42757 [==============================] - 3s 76us/step - loss: 1.1337 - acc: 0.5980 - val_loss: 7.2597 - val_acc: 0.2080\n",
      "Epoch 220/500\n",
      "42757/42757 [==============================] - 3s 68us/step - loss: 1.1372 - acc: 0.5973 - val_loss: 6.3761 - val_acc: 0.2143\n",
      "Epoch 221/500\n",
      "42757/42757 [==============================] - 3s 62us/step - loss: 1.1369 - acc: 0.5945 - val_loss: 6.9185 - val_acc: 0.2119\n",
      "Epoch 222/500\n",
      "42757/42757 [==============================] - 3s 71us/step - loss: 1.1325 - acc: 0.5985 - val_loss: 6.4767 - val_acc: 0.2157\n",
      "Epoch 223/500\n",
      "42757/42757 [==============================] - 3s 64us/step - loss: 1.1298 - acc: 0.5968 - val_loss: 6.5011 - val_acc: 0.2128\n",
      "Epoch 224/500\n",
      "42757/42757 [==============================] - 3s 63us/step - loss: 1.1493 - acc: 0.5908 - val_loss: 6.1479 - val_acc: 0.2132\n",
      "Epoch 225/500\n",
      "42757/42757 [==============================] - 3s 60us/step - loss: 1.1462 - acc: 0.5916 - val_loss: 6.4818 - val_acc: 0.2148\n",
      "Epoch 226/500\n",
      "42757/42757 [==============================] - 3s 77us/step - loss: 1.1424 - acc: 0.5939 - val_loss: 6.1274 - val_acc: 0.2123\n",
      "Epoch 227/500\n",
      "42757/42757 [==============================] - 3s 65us/step - loss: 1.1356 - acc: 0.5957 - val_loss: 6.6570 - val_acc: 0.2143\n",
      "Epoch 228/500\n",
      "42757/42757 [==============================] - 6s 133us/step - loss: 1.1330 - acc: 0.5967 - val_loss: 6.8258 - val_acc: 0.2097\n",
      "Epoch 229/500\n",
      "42757/42757 [==============================] - 6s 141us/step - loss: 1.1404 - acc: 0.5928 - val_loss: 6.4926 - val_acc: 0.2136\n",
      "Epoch 230/500\n",
      "42757/42757 [==============================] - 3s 64us/step - loss: 1.1511 - acc: 0.5876 - val_loss: 6.7621 - val_acc: 0.2111\n",
      "Epoch 231/500\n",
      "42757/42757 [==============================] - 3s 64us/step - loss: 1.1373 - acc: 0.5926 - val_loss: 6.4503 - val_acc: 0.2163\n",
      "Epoch 232/500\n",
      "42757/42757 [==============================] - 3s 63us/step - loss: 1.1440 - acc: 0.5960 - val_loss: 6.1592 - val_acc: 0.2079\n",
      "Epoch 233/500\n",
      "42757/42757 [==============================] - 3s 71us/step - loss: 1.1307 - acc: 0.5988 - val_loss: 6.3941 - val_acc: 0.2140\n",
      "Epoch 234/500\n"
     ]
    },
    {
     "name": "stdout",
     "output_type": "stream",
     "text": [
      "42757/42757 [==============================] - 3s 63us/step - loss: 1.1380 - acc: 0.5952 - val_loss: 6.8182 - val_acc: 0.2134\n",
      "Epoch 235/500\n",
      "42757/42757 [==============================] - 3s 63us/step - loss: 1.1466 - acc: 0.5921 - val_loss: 6.4568 - val_acc: 0.2150\n",
      "Epoch 236/500\n",
      "42757/42757 [==============================] - 3s 69us/step - loss: 1.1320 - acc: 0.5964 - val_loss: 6.7557 - val_acc: 0.2098\n",
      "Epoch 237/500\n",
      "42757/42757 [==============================] - 3s 71us/step - loss: 1.1617 - acc: 0.5885 - val_loss: 6.2689 - val_acc: 0.2146\n",
      "Epoch 238/500\n",
      "42757/42757 [==============================] - 3s 72us/step - loss: 1.1335 - acc: 0.5955 - val_loss: 6.3881 - val_acc: 0.2173\n",
      "Epoch 239/500\n",
      "42757/42757 [==============================] - 3s 75us/step - loss: 1.1364 - acc: 0.5969 - val_loss: 6.9328 - val_acc: 0.2138\n",
      "Epoch 240/500\n",
      "42757/42757 [==============================] - 3s 62us/step - loss: 1.1409 - acc: 0.5935 - val_loss: 6.2296 - val_acc: 0.2151\n",
      "Epoch 241/500\n",
      "42757/42757 [==============================] - 3s 63us/step - loss: 1.1384 - acc: 0.5974 - val_loss: 6.8473 - val_acc: 0.2119\n",
      "Epoch 242/500\n",
      "42757/42757 [==============================] - 3s 65us/step - loss: 1.1337 - acc: 0.5970 - val_loss: 6.2824 - val_acc: 0.2117\n",
      "Epoch 243/500\n",
      "42757/42757 [==============================] - 3s 79us/step - loss: 1.1456 - acc: 0.5914 - val_loss: 6.3664 - val_acc: 0.2156\n",
      "Epoch 244/500\n",
      "42757/42757 [==============================] - 3s 68us/step - loss: 1.1352 - acc: 0.5974 - val_loss: 6.3584 - val_acc: 0.2152\n",
      "Epoch 245/500\n",
      "42757/42757 [==============================] - 3s 78us/step - loss: 1.1362 - acc: 0.5953 - val_loss: 7.1391 - val_acc: 0.2083\n",
      "Epoch 246/500\n",
      "42757/42757 [==============================] - 3s 63us/step - loss: 1.1344 - acc: 0.5971 - val_loss: 6.5440 - val_acc: 0.2152\n",
      "Epoch 247/500\n",
      "42757/42757 [==============================] - 3s 72us/step - loss: 1.1339 - acc: 0.5975 - val_loss: 7.3279 - val_acc: 0.2083\n",
      "Epoch 248/500\n",
      "42757/42757 [==============================] - 3s 73us/step - loss: 1.1503 - acc: 0.5901 - val_loss: 6.6784 - val_acc: 0.2139\n",
      "Epoch 249/500\n",
      "42757/42757 [==============================] - 3s 73us/step - loss: 1.1404 - acc: 0.5930 - val_loss: 6.4727 - val_acc: 0.2135\n",
      "Epoch 250/500\n",
      "42757/42757 [==============================] - 3s 62us/step - loss: 1.1501 - acc: 0.5891 - val_loss: 6.9388 - val_acc: 0.2118\n",
      "Epoch 251/500\n",
      "42757/42757 [==============================] - 3s 63us/step - loss: 1.1305 - acc: 0.5991 - val_loss: 6.3214 - val_acc: 0.2086\n",
      "Epoch 252/500\n",
      "42757/42757 [==============================] - 3s 64us/step - loss: 1.1468 - acc: 0.5935 - val_loss: 6.9768 - val_acc: 0.2101\n",
      "Epoch 253/500\n",
      "42757/42757 [==============================] - 6s 146us/step - loss: 1.1434 - acc: 0.5934 - val_loss: 6.8119 - val_acc: 0.2115\n",
      "Epoch 254/500\n",
      "42757/42757 [==============================] - 3s 74us/step - loss: 1.1455 - acc: 0.5946 - val_loss: 5.5889 - val_acc: 0.2078\n",
      "Epoch 255/500\n",
      "42757/42757 [==============================] - 3s 63us/step - loss: 1.1322 - acc: 0.5964 - val_loss: 6.8027 - val_acc: 0.2092\n",
      "Epoch 256/500\n",
      "42757/42757 [==============================] - 3s 62us/step - loss: 1.1388 - acc: 0.5947 - val_loss: 6.7505 - val_acc: 0.2152\n",
      "Epoch 257/500\n",
      "42757/42757 [==============================] - 3s 65us/step - loss: 1.1314 - acc: 0.5958 - val_loss: 6.8518 - val_acc: 0.2085\n",
      "Epoch 258/500\n",
      "42757/42757 [==============================] - 4s 90us/step - loss: 1.1295 - acc: 0.6011 - val_loss: 6.4183 - val_acc: 0.2139\n",
      "Epoch 259/500\n",
      "42757/42757 [==============================] - 3s 75us/step - loss: 1.1519 - acc: 0.5914 - val_loss: 6.3020 - val_acc: 0.2145\n",
      "Epoch 260/500\n",
      "42757/42757 [==============================] - 3s 68us/step - loss: 1.1289 - acc: 0.6007 - val_loss: 6.7472 - val_acc: 0.21260s - loss: 1.1305 - acc:\n",
      "Epoch 261/500\n",
      "42757/42757 [==============================] - 3s 62us/step - loss: 1.1356 - acc: 0.5968 - val_loss: 6.3226 - val_acc: 0.2128\n",
      "Epoch 262/500\n",
      "42757/42757 [==============================] - 3s 63us/step - loss: 1.1312 - acc: 0.5948 - val_loss: 6.4388 - val_acc: 0.2129\n",
      "Epoch 263/500\n",
      "42757/42757 [==============================] - 4s 86us/step - loss: 1.1368 - acc: 0.5966 - val_loss: 6.6681 - val_acc: 0.2170\n",
      "Epoch 264/500\n",
      "42757/42757 [==============================] - 7s 172us/step - loss: 1.1401 - acc: 0.5938 - val_loss: 6.5414 - val_acc: 0.2155\n",
      "Epoch 265/500\n",
      "42757/42757 [==============================] - 3s 79us/step - loss: 1.1452 - acc: 0.5915 - val_loss: 6.3773 - val_acc: 0.2116\n",
      "Epoch 266/500\n",
      "42757/42757 [==============================] - 3s 74us/step - loss: 1.1317 - acc: 0.5964 - val_loss: 6.5448 - val_acc: 0.2137\n",
      "Epoch 267/500\n",
      "42757/42757 [==============================] - 5s 123us/step - loss: 1.1354 - acc: 0.5931 - val_loss: 6.8631 - val_acc: 0.2101\n",
      "Epoch 268/500\n",
      "42757/42757 [==============================] - 5s 111us/step - loss: 1.1338 - acc: 0.5965 - val_loss: 7.2566 - val_acc: 0.2080\n",
      "Epoch 269/500\n",
      "42757/42757 [==============================] - 4s 102us/step - loss: 1.1286 - acc: 0.5986 - val_loss: 6.8870 - val_acc: 0.2131\n",
      "Epoch 270/500\n",
      "42757/42757 [==============================] - 4s 90us/step - loss: 1.1413 - acc: 0.5949 - val_loss: 6.9929 - val_acc: 0.2123\n",
      "Epoch 271/500\n",
      "42757/42757 [==============================] - 4s 104us/step - loss: 1.1365 - acc: 0.5967 - val_loss: 7.2512 - val_acc: 0.2069\n",
      "Epoch 272/500\n",
      "42757/42757 [==============================] - 4s 102us/step - loss: 1.1358 - acc: 0.5969 - val_loss: 6.2917 - val_acc: 0.2133\n",
      "Epoch 273/500\n",
      "42757/42757 [==============================] - 4s 99us/step - loss: 1.1429 - acc: 0.5965 - val_loss: 6.2128 - val_acc: 0.2141\n",
      "Epoch 274/500\n",
      "42757/42757 [==============================] - 3s 74us/step - loss: 1.1347 - acc: 0.5976 - val_loss: 6.6393 - val_acc: 0.2120\n",
      "Epoch 275/500\n",
      "42757/42757 [==============================] - 3s 66us/step - loss: 1.1427 - acc: 0.5939 - val_loss: 6.3906 - val_acc: 0.2151\n",
      "Epoch 276/500\n",
      "42757/42757 [==============================] - 3s 76us/step - loss: 1.1437 - acc: 0.5959 - val_loss: 6.7016 - val_acc: 0.2096\n",
      "Epoch 277/500\n",
      "42757/42757 [==============================] - 5s 110us/step - loss: 1.1373 - acc: 0.5952 - val_loss: 6.4349 - val_acc: 0.2111\n",
      "Epoch 278/500\n",
      "42757/42757 [==============================] - 4s 92us/step - loss: 1.1438 - acc: 0.5928 - val_loss: 6.4180 - val_acc: 0.2145\n",
      "Epoch 279/500\n",
      "42757/42757 [==============================] - 4s 98us/step - loss: 1.1390 - acc: 0.5960 - val_loss: 6.5398 - val_acc: 0.2109\n",
      "Epoch 280/500\n",
      "42757/42757 [==============================] - 4s 87us/step - loss: 1.1433 - acc: 0.5944 - val_loss: 7.1190 - val_acc: 0.2138\n",
      "Epoch 281/500\n",
      "42757/42757 [==============================] - 3s 73us/step - loss: 1.1422 - acc: 0.5940 - val_loss: 6.4181 - val_acc: 0.2150\n",
      "Epoch 282/500\n",
      "42757/42757 [==============================] - 3s 70us/step - loss: 1.1334 - acc: 0.5982 - val_loss: 6.4221 - val_acc: 0.2116\n",
      "Epoch 283/500\n",
      "42757/42757 [==============================] - 3s 64us/step - loss: 1.1426 - acc: 0.5932 - val_loss: 6.2925 - val_acc: 0.2127\n",
      "Epoch 284/500\n",
      "42757/42757 [==============================] - 3s 80us/step - loss: 1.1336 - acc: 0.5973 - val_loss: 6.8395 - val_acc: 0.2144\n",
      "Epoch 285/500\n",
      "42757/42757 [==============================] - 3s 65us/step - loss: 1.1437 - acc: 0.5920 - val_loss: 6.8395 - val_acc: 0.2129\n",
      "Epoch 286/500\n",
      "42757/42757 [==============================] - 3s 66us/step - loss: 1.1334 - acc: 0.5984 - val_loss: 6.2293 - val_acc: 0.2145\n",
      "Epoch 287/500\n",
      "42757/42757 [==============================] - 6s 130us/step - loss: 1.1400 - acc: 0.5897 - val_loss: 6.2673 - val_acc: 0.2145\n",
      "Epoch 288/500\n",
      "42757/42757 [==============================] - 4s 87us/step - loss: 1.1367 - acc: 0.5965 - val_loss: 6.9368 - val_acc: 0.2116\n",
      "Epoch 289/500\n",
      "42757/42757 [==============================] - 3s 73us/step - loss: 1.1365 - acc: 0.5968 - val_loss: 6.5995 - val_acc: 0.2073\n",
      "Epoch 290/500\n",
      "42757/42757 [==============================] - 3s 64us/step - loss: 1.1370 - acc: 0.5963 - val_loss: 6.4142 - val_acc: 0.2094\n",
      "Epoch 291/500\n",
      "42757/42757 [==============================] - 3s 65us/step - loss: 1.1363 - acc: 0.5942 - val_loss: 6.6831 - val_acc: 0.2138\n",
      "Epoch 292/500\n",
      "42757/42757 [==============================] - 3s 63us/step - loss: 1.1380 - acc: 0.5971 - val_loss: 6.4201 - val_acc: 0.2137\n",
      "Epoch 293/500\n",
      "42757/42757 [==============================] - 3s 62us/step - loss: 1.1286 - acc: 0.5991 - val_loss: 7.2901 - val_acc: 0.2104\n",
      "Epoch 294/500\n",
      "42757/42757 [==============================] - 6s 146us/step - loss: 1.1458 - acc: 0.5916 - val_loss: 6.2771 - val_acc: 0.2159\n",
      "Epoch 295/500\n",
      "42757/42757 [==============================] - 4s 86us/step - loss: 1.1399 - acc: 0.5967 - val_loss: 6.7019 - val_acc: 0.2121\n",
      "Epoch 296/500\n",
      "42757/42757 [==============================] - 3s 64us/step - loss: 1.1454 - acc: 0.5929 - val_loss: 6.7770 - val_acc: 0.2112\n",
      "Epoch 297/500\n",
      "42757/42757 [==============================] - 5s 127us/step - loss: 1.1297 - acc: 0.5962 - val_loss: 7.0395 - val_acc: 0.2122\n",
      "Epoch 298/500\n",
      "42757/42757 [==============================] - 4s 96us/step - loss: 1.1475 - acc: 0.5946 - val_loss: 7.1192 - val_acc: 0.2103\n",
      "Epoch 299/500\n",
      "42757/42757 [==============================] - 3s 71us/step - loss: 1.1485 - acc: 0.5924 - val_loss: 6.8890 - val_acc: 0.2137\n",
      "Epoch 300/500\n",
      "42757/42757 [==============================] - 3s 64us/step - loss: 1.1362 - acc: 0.5965 - val_loss: 6.4642 - val_acc: 0.2126\n",
      "Epoch 301/500\n",
      "42757/42757 [==============================] - 3s 62us/step - loss: 1.1412 - acc: 0.5914 - val_loss: 6.5722 - val_acc: 0.2125\n",
      "Epoch 302/500\n",
      "42757/42757 [==============================] - 3s 62us/step - loss: 1.1418 - acc: 0.5995 - val_loss: 6.7997 - val_acc: 0.2135\n",
      "Epoch 303/500\n",
      "42757/42757 [==============================] - 3s 61us/step - loss: 1.1961 - acc: 0.5743 - val_loss: 5.5847 - val_acc: 0.2122\n",
      "Epoch 304/500\n",
      "42757/42757 [==============================] - 3s 61us/step - loss: 1.1316 - acc: 0.5965 - val_loss: 6.6507 - val_acc: 0.2126\n",
      "Epoch 305/500\n",
      "42757/42757 [==============================] - 3s 62us/step - loss: 1.1425 - acc: 0.5956 - val_loss: 6.3562 - val_acc: 0.2142\n",
      "Epoch 306/500\n",
      "42757/42757 [==============================] - 3s 66us/step - loss: 1.1575 - acc: 0.5900 - val_loss: 6.3562 - val_acc: 0.2141\n",
      "Epoch 307/500\n",
      "42757/42757 [==============================] - 3s 67us/step - loss: 1.1378 - acc: 0.5969 - val_loss: 6.6713 - val_acc: 0.2143\n",
      "Epoch 308/500\n",
      "42757/42757 [==============================] - 3s 66us/step - loss: 1.1681 - acc: 0.5826 - val_loss: 6.4856 - val_acc: 0.2125\n",
      "Epoch 309/500\n",
      "42757/42757 [==============================] - 3s 68us/step - loss: 1.1237 - acc: 0.5991 - val_loss: 6.6427 - val_acc: 0.2126\n",
      "Epoch 310/500\n",
      "42757/42757 [==============================] - 3s 70us/step - loss: 1.1516 - acc: 0.5901 - val_loss: 6.4506 - val_acc: 0.2148\n",
      "Epoch 311/500\n",
      "42757/42757 [==============================] - 3s 75us/step - loss: 1.1331 - acc: 0.5982 - val_loss: 6.5238 - val_acc: 0.2102\n",
      "Epoch 312/500\n",
      "42757/42757 [==============================] - 3s 75us/step - loss: 1.1441 - acc: 0.5940 - val_loss: 6.3253 - val_acc: 0.2113\n",
      "Epoch 313/500\n",
      "42757/42757 [==============================] - 3s 77us/step - loss: 1.1442 - acc: 0.5945 - val_loss: 6.3707 - val_acc: 0.2107\n",
      "Epoch 314/500\n",
      "42757/42757 [==============================] - 6s 135us/step - loss: 1.1530 - acc: 0.5910 - val_loss: 6.7928 - val_acc: 0.2104\n",
      "Epoch 315/500\n",
      "42757/42757 [==============================] - 3s 70us/step - loss: 1.1408 - acc: 0.5939 - val_loss: 6.9953 - val_acc: 0.2097\n",
      "Epoch 316/500\n",
      "42757/42757 [==============================] - 3s 71us/step - loss: 1.1311 - acc: 0.5967 - val_loss: 6.6397 - val_acc: 0.2101\n",
      "Epoch 317/500\n",
      "42757/42757 [==============================] - 3s 71us/step - loss: 1.1430 - acc: 0.5937 - val_loss: 6.4012 - val_acc: 0.2131\n",
      "Epoch 318/500\n",
      "42757/42757 [==============================] - 3s 70us/step - loss: 1.1318 - acc: 0.5953 - val_loss: 6.7066 - val_acc: 0.2108\n",
      "Epoch 319/500\n",
      "42757/42757 [==============================] - 3s 75us/step - loss: 1.1384 - acc: 0.5958 - val_loss: 6.9262 - val_acc: 0.2128\n",
      "Epoch 320/500\n",
      "42757/42757 [==============================] - 3s 69us/step - loss: 1.1396 - acc: 0.5936 - val_loss: 6.6230 - val_acc: 0.2136\n",
      "Epoch 321/500\n",
      "31200/42757 [====================>.........] - ETA: 0s - loss: 1.1453 - acc: 0.5926"
     ]
    },
    {
     "ename": "KeyboardInterrupt",
     "evalue": "",
     "output_type": "error",
     "traceback": [
      "\u001b[1;31m---------------------------------------------------------------------------\u001b[0m",
      "\u001b[1;31mKeyboardInterrupt\u001b[0m                         Traceback (most recent call last)",
      "\u001b[1;32m<ipython-input-90-0b9a903e92fc>\u001b[0m in \u001b[0;36m<module>\u001b[1;34m()\u001b[0m\n\u001b[0;32m      9\u001b[0m               \u001b[0mepochs\u001b[0m\u001b[1;33m=\u001b[0m\u001b[0mepochs\u001b[0m\u001b[1;33m,\u001b[0m\u001b[1;33m\u001b[0m\u001b[0m\n\u001b[0;32m     10\u001b[0m               \u001b[0mshuffle\u001b[0m\u001b[1;33m=\u001b[0m\u001b[1;32mTrue\u001b[0m\u001b[1;33m,\u001b[0m\u001b[1;33m\u001b[0m\u001b[0m\n\u001b[1;32m---> 11\u001b[1;33m               validation_split=VALIDATION_SPLIT)\n\u001b[0m",
      "\u001b[1;32mc:\\users\\eratsau\\appdata\\local\\programs\\python\\python36\\lib\\site-packages\\keras\\engine\\training.py\u001b[0m in \u001b[0;36mfit\u001b[1;34m(self, x, y, batch_size, epochs, verbose, callbacks, validation_split, validation_data, shuffle, class_weight, sample_weight, initial_epoch, steps_per_epoch, validation_steps, **kwargs)\u001b[0m\n\u001b[0;32m   1040\u001b[0m                                         \u001b[0minitial_epoch\u001b[0m\u001b[1;33m=\u001b[0m\u001b[0minitial_epoch\u001b[0m\u001b[1;33m,\u001b[0m\u001b[1;33m\u001b[0m\u001b[0m\n\u001b[0;32m   1041\u001b[0m                                         \u001b[0msteps_per_epoch\u001b[0m\u001b[1;33m=\u001b[0m\u001b[0msteps_per_epoch\u001b[0m\u001b[1;33m,\u001b[0m\u001b[1;33m\u001b[0m\u001b[0m\n\u001b[1;32m-> 1042\u001b[1;33m                                         validation_steps=validation_steps)\n\u001b[0m\u001b[0;32m   1043\u001b[0m \u001b[1;33m\u001b[0m\u001b[0m\n\u001b[0;32m   1044\u001b[0m     def evaluate(self, x=None, y=None,\n",
      "\u001b[1;32mc:\\users\\eratsau\\appdata\\local\\programs\\python\\python36\\lib\\site-packages\\keras\\engine\\training_arrays.py\u001b[0m in \u001b[0;36mfit_loop\u001b[1;34m(model, f, ins, out_labels, batch_size, epochs, verbose, callbacks, val_f, val_ins, shuffle, callback_metrics, initial_epoch, steps_per_epoch, validation_steps)\u001b[0m\n\u001b[0;32m    197\u001b[0m                     \u001b[0mins_batch\u001b[0m\u001b[1;33m[\u001b[0m\u001b[0mi\u001b[0m\u001b[1;33m]\u001b[0m \u001b[1;33m=\u001b[0m \u001b[0mins_batch\u001b[0m\u001b[1;33m[\u001b[0m\u001b[0mi\u001b[0m\u001b[1;33m]\u001b[0m\u001b[1;33m.\u001b[0m\u001b[0mtoarray\u001b[0m\u001b[1;33m(\u001b[0m\u001b[1;33m)\u001b[0m\u001b[1;33m\u001b[0m\u001b[0m\n\u001b[0;32m    198\u001b[0m \u001b[1;33m\u001b[0m\u001b[0m\n\u001b[1;32m--> 199\u001b[1;33m                 \u001b[0mouts\u001b[0m \u001b[1;33m=\u001b[0m \u001b[0mf\u001b[0m\u001b[1;33m(\u001b[0m\u001b[0mins_batch\u001b[0m\u001b[1;33m)\u001b[0m\u001b[1;33m\u001b[0m\u001b[0m\n\u001b[0m\u001b[0;32m    200\u001b[0m                 \u001b[1;32mif\u001b[0m \u001b[1;32mnot\u001b[0m \u001b[0misinstance\u001b[0m\u001b[1;33m(\u001b[0m\u001b[0mouts\u001b[0m\u001b[1;33m,\u001b[0m \u001b[0mlist\u001b[0m\u001b[1;33m)\u001b[0m\u001b[1;33m:\u001b[0m\u001b[1;33m\u001b[0m\u001b[0m\n\u001b[0;32m    201\u001b[0m                     \u001b[0mouts\u001b[0m \u001b[1;33m=\u001b[0m \u001b[1;33m[\u001b[0m\u001b[0mouts\u001b[0m\u001b[1;33m]\u001b[0m\u001b[1;33m\u001b[0m\u001b[0m\n",
      "\u001b[1;32mc:\\users\\eratsau\\appdata\\local\\programs\\python\\python36\\lib\\site-packages\\keras\\backend\\tensorflow_backend.py\u001b[0m in \u001b[0;36m__call__\u001b[1;34m(self, inputs)\u001b[0m\n\u001b[0;32m   2659\u001b[0m                 \u001b[1;32mreturn\u001b[0m \u001b[0mself\u001b[0m\u001b[1;33m.\u001b[0m\u001b[0m_legacy_call\u001b[0m\u001b[1;33m(\u001b[0m\u001b[0minputs\u001b[0m\u001b[1;33m)\u001b[0m\u001b[1;33m\u001b[0m\u001b[0m\n\u001b[0;32m   2660\u001b[0m \u001b[1;33m\u001b[0m\u001b[0m\n\u001b[1;32m-> 2661\u001b[1;33m             \u001b[1;32mreturn\u001b[0m \u001b[0mself\u001b[0m\u001b[1;33m.\u001b[0m\u001b[0m_call\u001b[0m\u001b[1;33m(\u001b[0m\u001b[0minputs\u001b[0m\u001b[1;33m)\u001b[0m\u001b[1;33m\u001b[0m\u001b[0m\n\u001b[0m\u001b[0;32m   2662\u001b[0m         \u001b[1;32melse\u001b[0m\u001b[1;33m:\u001b[0m\u001b[1;33m\u001b[0m\u001b[0m\n\u001b[0;32m   2663\u001b[0m             \u001b[1;32mif\u001b[0m \u001b[0mpy_any\u001b[0m\u001b[1;33m(\u001b[0m\u001b[0mis_tensor\u001b[0m\u001b[1;33m(\u001b[0m\u001b[0mx\u001b[0m\u001b[1;33m)\u001b[0m \u001b[1;32mfor\u001b[0m \u001b[0mx\u001b[0m \u001b[1;32min\u001b[0m \u001b[0minputs\u001b[0m\u001b[1;33m)\u001b[0m\u001b[1;33m:\u001b[0m\u001b[1;33m\u001b[0m\u001b[0m\n",
      "\u001b[1;32mc:\\users\\eratsau\\appdata\\local\\programs\\python\\python36\\lib\\site-packages\\keras\\backend\\tensorflow_backend.py\u001b[0m in \u001b[0;36m_call\u001b[1;34m(self, inputs)\u001b[0m\n\u001b[0;32m   2629\u001b[0m                                 \u001b[0msymbol_vals\u001b[0m\u001b[1;33m,\u001b[0m\u001b[1;33m\u001b[0m\u001b[0m\n\u001b[0;32m   2630\u001b[0m                                 session)\n\u001b[1;32m-> 2631\u001b[1;33m         \u001b[0mfetched\u001b[0m \u001b[1;33m=\u001b[0m \u001b[0mself\u001b[0m\u001b[1;33m.\u001b[0m\u001b[0m_callable_fn\u001b[0m\u001b[1;33m(\u001b[0m\u001b[1;33m*\u001b[0m\u001b[0marray_vals\u001b[0m\u001b[1;33m)\u001b[0m\u001b[1;33m\u001b[0m\u001b[0m\n\u001b[0m\u001b[0;32m   2632\u001b[0m         \u001b[1;32mreturn\u001b[0m \u001b[0mfetched\u001b[0m\u001b[1;33m[\u001b[0m\u001b[1;33m:\u001b[0m\u001b[0mlen\u001b[0m\u001b[1;33m(\u001b[0m\u001b[0mself\u001b[0m\u001b[1;33m.\u001b[0m\u001b[0moutputs\u001b[0m\u001b[1;33m)\u001b[0m\u001b[1;33m]\u001b[0m\u001b[1;33m\u001b[0m\u001b[0m\n\u001b[0;32m   2633\u001b[0m \u001b[1;33m\u001b[0m\u001b[0m\n",
      "\u001b[1;32mc:\\users\\eratsau\\appdata\\local\\programs\\python\\python36\\lib\\site-packages\\tensorflow\\python\\client\\session.py\u001b[0m in \u001b[0;36m__call__\u001b[1;34m(self, *args)\u001b[0m\n\u001b[0;32m   1449\u001b[0m         \u001b[1;32mif\u001b[0m \u001b[0mself\u001b[0m\u001b[1;33m.\u001b[0m\u001b[0m_session\u001b[0m\u001b[1;33m.\u001b[0m\u001b[0m_created_with_new_api\u001b[0m\u001b[1;33m:\u001b[0m\u001b[1;33m\u001b[0m\u001b[0m\n\u001b[0;32m   1450\u001b[0m           return tf_session.TF_SessionRunCallable(\n\u001b[1;32m-> 1451\u001b[1;33m               self._session._session, self._handle, args, status, None)\n\u001b[0m\u001b[0;32m   1452\u001b[0m         \u001b[1;32melse\u001b[0m\u001b[1;33m:\u001b[0m\u001b[1;33m\u001b[0m\u001b[0m\n\u001b[0;32m   1453\u001b[0m           return tf_session.TF_DeprecatedSessionRunCallable(\n",
      "\u001b[1;31mKeyboardInterrupt\u001b[0m: "
     ]
    }
   ],
   "source": [
    "model.compile(optimizer='adam', loss='categorical_crossentropy',metrics=['accuracy'])\n",
    "BATCH_SIZE = 50\n",
    "epochs = 500\n",
    "VALIDATION_SPLIT=0.2\n",
    "print('Training model...')\n",
    "r = model.fit(X_t,\n",
    "              Y_t,\n",
    "              batch_size=BATCH_SIZE,\n",
    "              epochs=epochs,\n",
    "              shuffle=True,\n",
    "              validation_split=VALIDATION_SPLIT)"
   ]
  },
  {
   "cell_type": "code",
   "execution_count": 5,
   "metadata": {},
   "outputs": [
    {
     "data": {
      "text/plain": [
       "array([1950., 1850., 1750., 1650., 1550.])"
      ]
     },
     "execution_count": 5,
     "metadata": {},
     "output_type": "execute_result"
    }
   ],
   "source": [
    "import numpy as np\n",
    "np.arange(1950.00, 1000.00, -100.00)[0:5]"
   ]
  },
  {
   "cell_type": "code",
   "execution_count": 6,
   "metadata": {},
   "outputs": [
    {
     "data": {
      "text/plain": [
       "array([[6],\n",
       "       [5],\n",
       "       [4],\n",
       "       [3],\n",
       "       [2]])"
      ]
     },
     "execution_count": 6,
     "metadata": {},
     "output_type": "execute_result"
    }
   ],
   "source": [
    "np.arange(6, 1, -1)[0:5].reshape(5,1)"
   ]
  },
  {
   "cell_type": "code",
   "execution_count": null,
   "metadata": {},
   "outputs": [],
   "source": []
  }
 ],
 "metadata": {
  "kernelspec": {
   "display_name": "Python 3",
   "language": "python",
   "name": "python3"
  },
  "language_info": {
   "codemirror_mode": {
    "name": "ipython",
    "version": 3
   },
   "file_extension": ".py",
   "mimetype": "text/x-python",
   "name": "python",
   "nbconvert_exporter": "python",
   "pygments_lexer": "ipython3",
   "version": "3.6.4"
  }
 },
 "nbformat": 4,
 "nbformat_minor": 2
}
