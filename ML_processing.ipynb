{
 "cells": [
  {
   "cell_type": "code",
   "execution_count": 2,
   "metadata": {},
   "outputs": [],
   "source": [
    "import numpy as np\n",
    "import pandas as pd"
   ]
  },
  {
   "cell_type": "code",
   "execution_count": 5,
   "metadata": {},
   "outputs": [],
   "source": [
    "# loading the processed_data from txt file\n",
    "in_data = np.loadtxt('in_train.txt', dtype=float)\n",
    "out_data = np.loadtxt('out_train.txt', dtype=float)"
   ]
  },
  {
   "cell_type": "code",
   "execution_count": 10,
   "metadata": {},
   "outputs": [
    {
     "data": {
      "text/plain": [
       "(53447, 10)"
      ]
     },
     "execution_count": 10,
     "metadata": {},
     "output_type": "execute_result"
    }
   ],
   "source": [
    "in_data.shape"
   ]
  },
  {
   "cell_type": "code",
   "execution_count": 9,
   "metadata": {},
   "outputs": [
    {
     "data": {
      "text/plain": [
       "(53447, 9)"
      ]
     },
     "execution_count": 9,
     "metadata": {},
     "output_type": "execute_result"
    }
   ],
   "source": [
    "out_data.shape"
   ]
  },
  {
   "cell_type": "code",
   "execution_count": 21,
   "metadata": {},
   "outputs": [
    {
     "name": "stdout",
     "output_type": "stream",
     "text": [
      "(53447, 19)\n"
     ]
    }
   ],
   "source": [
    "# shuffling the data \n",
    "final_data = np.concatenate((in_data, out_data), axis = 1)  # merging the input n expected output\n",
    "print(final_data.shape)\n",
    "np.random.shuffle(final_data)  # shuffling the data"
   ]
  },
  {
   "cell_type": "code",
   "execution_count": 29,
   "metadata": {},
   "outputs": [],
   "source": [
    "X = final_data[:, :10]\n",
    "Y = final_data[:, -9:]"
   ]
  },
  {
   "cell_type": "code",
   "execution_count": 30,
   "metadata": {},
   "outputs": [
    {
     "data": {
      "text/plain": [
       "(53447, 9)"
      ]
     },
     "execution_count": 30,
     "metadata": {},
     "output_type": "execute_result"
    }
   ],
   "source": [
    "Y.shape"
   ]
  },
  {
   "cell_type": "code",
   "execution_count": 31,
   "metadata": {},
   "outputs": [],
   "source": [
    "from sklearn.model_selection import train_test_split"
   ]
  },
  {
   "cell_type": "code",
   "execution_count": 32,
   "metadata": {},
   "outputs": [],
   "source": [
    "X_train, X_test, y_train, y_test = train_test_split(X, Y, test_size=0.33, random_state=42)"
   ]
  },
  {
   "cell_type": "code",
   "execution_count": 33,
   "metadata": {},
   "outputs": [
    {
     "name": "stdout",
     "output_type": "stream",
     "text": [
      "(35809, 10)\n",
      "(17638, 10)\n",
      "(35809, 9)\n",
      "(17638, 9)\n"
     ]
    }
   ],
   "source": [
    "print(X_train.shape)\n",
    "print(X_test.shape)\n",
    "print(y_train.shape)\n",
    "print(y_test.shape)"
   ]
  },
  {
   "cell_type": "code",
   "execution_count": 99,
   "metadata": {},
   "outputs": [],
   "source": [
    "from sklearn import tree\n",
    "clf = tree.DecisionTreeClassifier(min_samples_split=50)\n",
    "clf = clf.fit(X_train, y_train)"
   ]
  },
  {
   "cell_type": "code",
   "execution_count": 39,
   "metadata": {},
   "outputs": [],
   "source": [
    "y_pred = clf.predict(X_test)"
   ]
  },
  {
   "cell_type": "code",
   "execution_count": 36,
   "metadata": {},
   "outputs": [
    {
     "name": "stdout",
     "output_type": "stream",
     "text": [
      "[[0. 0. 0. ... 0. 1. 0.]\n",
      " [0. 0. 0. ... 0. 0. 0.]\n",
      " [0. 0. 0. ... 0. 0. 1.]\n",
      " ...\n",
      " [0. 0. 0. ... 0. 1. 0.]\n",
      " [0. 0. 0. ... 0. 0. 0.]\n",
      " [0. 1. 0. ... 0. 0. 0.]]\n"
     ]
    }
   ],
   "source": [
    "print(y_test)"
   ]
  },
  {
   "cell_type": "code",
   "execution_count": 37,
   "metadata": {},
   "outputs": [],
   "source": [
    "from sklearn.metrics import confusion_matrix"
   ]
  },
  {
   "cell_type": "code",
   "execution_count": 42,
   "metadata": {},
   "outputs": [
    {
     "data": {
      "text/plain": [
       "array([[ 910,    0,    0,    0,    3,    4,    2,    0,    0],\n",
       "       [   0, 1501,    2,    6,    8,   21,    2,    1,    0],\n",
       "       [   0,    0, 1482,    0,    0,    0,    1,    0,    0],\n",
       "       [   0,    3,    0,  398,    7,    7,    0,    5,    0],\n",
       "       [   1,   25,    0,    8, 2618,   57,    8,    5,    0],\n",
       "       [   4,   18,    0,    5,   78, 5599,   36,   25,    0],\n",
       "       [   0,    4,    0,    0,    5,   47, 1672,    6,    0],\n",
       "       [   0,    3,    0,    1,    8,   16,   12, 2437,    0],\n",
       "       [   0,    0,    0,    0,    0,    0,    0,    0,  577]],\n",
       "      dtype=int64)"
      ]
     },
     "execution_count": 42,
     "metadata": {},
     "output_type": "execute_result"
    }
   ],
   "source": [
    "confusion_matrix(y_test.argmax(axis=1), y_pred.argmax(axis=1))"
   ]
  },
  {
   "cell_type": "code",
   "execution_count": 43,
   "metadata": {},
   "outputs": [],
   "source": [
    "from sklearn.metrics import f1_score"
   ]
  },
  {
   "cell_type": "code",
   "execution_count": 44,
   "metadata": {},
   "outputs": [
    {
     "data": {
      "text/plain": [
       "0.9771207754777511"
      ]
     },
     "execution_count": 44,
     "metadata": {},
     "output_type": "execute_result"
    }
   ],
   "source": [
    "f1_score(y_test, y_pred, average='macro') "
   ]
  },
  {
   "cell_type": "code",
   "execution_count": 46,
   "metadata": {},
   "outputs": [],
   "source": [
    "testing_data = pd.read_csv('test_nvPHrOx.csv')"
   ]
  },
  {
   "cell_type": "code",
   "execution_count": 47,
   "metadata": {},
   "outputs": [],
   "source": [
    "url_data= testing_data['Url']"
   ]
  },
  {
   "cell_type": "code",
   "execution_count": 56,
   "metadata": {},
   "outputs": [],
   "source": [
    "import re\n",
    "def clean_list(input):\n",
    "    output = []\n",
    "    for i in input:\n",
    "        text = re.sub(r\"http://\", \"\", i)\n",
    "        text = re.sub(r\"https://\", \"\", text)\n",
    "        #print(output)\n",
    "        output.append(text)\n",
    "    return output"
   ]
  },
  {
   "cell_type": "code",
   "execution_count": 57,
   "metadata": {},
   "outputs": [],
   "source": [
    "url_data_pro = clean_list(url_data)"
   ]
  },
  {
   "cell_type": "code",
   "execution_count": 58,
   "metadata": {},
   "outputs": [
    {
     "data": {
      "text/plain": [
       "['www.isrctn.com/ISRCTN57801413',\n",
       " 'www.clinicaltrialsregister.eu/ctr-search/trial/2006-006214-16/GB',\n",
       " 'www.clinicaltrialsregister.eu/ctr-search/trial/2006-004265-34/LT',\n",
       " 'www.clinicaltrialsregister.eu/ctr-search/trial/2010-022183-12/IT']"
      ]
     },
     "execution_count": 58,
     "metadata": {},
     "output_type": "execute_result"
    }
   ],
   "source": [
    "url_data_pro[:4]"
   ]
  },
  {
   "cell_type": "code",
   "execution_count": 59,
   "metadata": {},
   "outputs": [
    {
     "name": "stderr",
     "output_type": "stream",
     "text": [
      "c:\\users\\eratsau\\appdata\\local\\programs\\python\\python36\\lib\\site-packages\\h5py\\__init__.py:36: FutureWarning: Conversion of the second argument of issubdtype from `float` to `np.floating` is deprecated. In future, it will be treated as `np.float64 == np.dtype(float).type`.\n",
      "  from ._conv import register_converters as _register_converters\n",
      "Using TensorFlow backend.\n"
     ]
    }
   ],
   "source": [
    "from keras.preprocessing import text, sequence "
   ]
  },
  {
   "cell_type": "code",
   "execution_count": 60,
   "metadata": {},
   "outputs": [],
   "source": [
    "def createVocab(field):\n",
    "    #not_found = 'nan'\n",
    "    vocab = []\n",
    "    for line in field:\n",
    "        for i in line.split('/'):\n",
    "            if i not in vocab:\n",
    "                vocab.append(i)\n",
    "    return vocab \n",
    " \n",
    "# generating seq IDs for words in vocabulary\n",
    "def genSeqNo(vocabulary):\n",
    "    i=1.0\n",
    "    vocab_seq = {}\n",
    "    for word in vocabulary:\n",
    "        if word not in vocab_seq:\n",
    "            vocab_seq[word] = i\n",
    "            i = i+1\n",
    "    return vocab_seq\n",
    "\n",
    "# function to replace words with its uniq seq ID\n",
    "def word2Seq(data):\n",
    "    result_seq = []\n",
    "    #max_seq = list(t_vocab_seq.items())[-1][1]\n",
    "    seq_len = []\n",
    "    for line in data:        \n",
    "        seq = []\n",
    "        curr_len = 0\n",
    "        for word in line.split('/'):\n",
    "            curr_len = curr_len + 1\n",
    "            if word in t_vocab_seq:\n",
    "                seq.append(t_vocab_seq[word])\n",
    "            else:\n",
    "                seq.append(0)\n",
    "        result_seq.append(seq)    # to append seqID of line\n",
    "        seq_len.append(curr_len)  # to find and append length of line\n",
    "    return result_seq, seq_len\n",
    "\n",
    "def seqNormalize(seq, data):\n",
    "    norm_seq = []\n",
    "    max_seq = max(seq.values())\n",
    "    norm_seq[:] = [[ele / max_seq for ele in sub] for sub in data]\n",
    "    return norm_seq\n"
   ]
  },
  {
   "cell_type": "code",
   "execution_count": 61,
   "metadata": {},
   "outputs": [],
   "source": [
    "url_vocab = createVocab(url_data_pro)   # creating vocabulary \n",
    "t_vocab_seq = genSeqNo(url_vocab)       # generating seqID for each word in vocab\n",
    "url_seq, seqn_len = word2Seq(url_data_pro)    # replacing word with seqID and a list of each line_length\n",
    "url_seq_norm = seqNormalize(t_vocab_seq, url_seq)    # normalizing the seqn IDs between 0 n 1"
   ]
  },
  {
   "cell_type": "code",
   "execution_count": 62,
   "metadata": {},
   "outputs": [
    {
     "data": {
      "text/plain": [
       "[[1.0, 2.0],\n",
       " [3.0, 4.0, 5.0, 6.0, 7.0],\n",
       " [3.0, 4.0, 5.0, 8.0, 9.0],\n",
       " [3.0, 4.0, 5.0, 10.0, 11.0]]"
      ]
     },
     "execution_count": 62,
     "metadata": {},
     "output_type": "execute_result"
    }
   ],
   "source": [
    "url_seq[:4]"
   ]
  },
  {
   "cell_type": "code",
   "execution_count": 64,
   "metadata": {},
   "outputs": [
    {
     "data": {
      "image/png": "[encoded data removed]",
      "text/plain": [
       "<matplotlib.figure.Figure at 0x1fe51f98>"
      ]
     },
     "metadata": {},
     "output_type": "display_data"
    }
   ],
   "source": [
    "import matplotlib.pyplot as plt\n",
    "# plotting frequency distribution of SeqnIDs\n",
    "plt.hist([seqn_len])\n",
    "plt.xticks(range(15))\n",
    "plt.show()\n",
    "# as observed from histogram, taking max_seqn_len as 10"
   ]
  },
  {
   "cell_type": "code",
   "execution_count": 65,
   "metadata": {},
   "outputs": [],
   "source": [
    "# padding seqn to max_seqn_length\n",
    "#url_seq_pad = sequence.pad_sequences(url_seq_norm, maxlen = max_seq_len, dtype='float32', padding='post')\n",
    "url_seq_pad = sequence.pad_sequences(url_seq, maxlen = 10, dtype='float32', padding='post')"
   ]
  },
  {
   "cell_type": "code",
   "execution_count": 100,
   "metadata": {},
   "outputs": [],
   "source": [
    "pred_testing = clf.predict(url_seq_pad)"
   ]
  },
  {
   "cell_type": "code",
   "execution_count": 101,
   "metadata": {},
   "outputs": [],
   "source": [
    "test_prediction = pred_testing.argmax(axis=1)"
   ]
  },
  {
   "cell_type": "code",
   "execution_count": 108,
   "metadata": {},
   "outputs": [
    {
     "data": {
      "text/plain": [
       "array([4, 4, 4, 4], dtype=int64)"
      ]
     },
     "execution_count": 108,
     "metadata": {},
     "output_type": "execute_result"
    }
   ],
   "source": [
    "test_prediction[:4]"
   ]
  },
  {
   "cell_type": "code",
   "execution_count": 71,
   "metadata": {},
   "outputs": [],
   "source": [
    "# training data\n",
    "input_data = pd.read_csv('train.csv')\n",
    "label = np.array(input_data['Tag'])\n",
    "\n",
    "# one-hot encoding via sklearn\n",
    "#https://machinelearningmastery.com/how-to-one-hot-encode-sequence-data-in-python/\n",
    "from sklearn.preprocessing import OneHotEncoder\n",
    "from sklearn.preprocessing import LabelEncoder\n",
    "# integer encode\n",
    "label_encoder = LabelEncoder()\n",
    "integer_encoded = label_encoder.fit_transform(label)"
   ]
  },
  {
   "cell_type": "code",
   "execution_count": 102,
   "metadata": {},
   "outputs": [
    {
     "name": "stderr",
     "output_type": "stream",
     "text": [
      "c:\\users\\eratsau\\appdata\\local\\programs\\python\\python36\\lib\\site-packages\\sklearn\\preprocessing\\label.py:151: DeprecationWarning: The truth value of an empty array is ambiguous. Returning False, but in future this will result in an error. Use `array.size > 0` to check that an array is not empty.\n",
      "  if diff:\n"
     ]
    }
   ],
   "source": [
    "label_decoded = np.array(label_encoder.inverse_transform(test_prediction))"
   ]
  },
  {
   "cell_type": "code",
   "execution_count": 103,
   "metadata": {},
   "outputs": [
    {
     "name": "stdout",
     "output_type": "stream",
     "text": [
      "['news' 'news' 'news' 'news']\n"
     ]
    }
   ],
   "source": [
    "print(label_decoded[:4])\n",
    "#print(label_decodede)"
   ]
  },
  {
   "cell_type": "code",
   "execution_count": 83,
   "metadata": {},
   "outputs": [],
   "source": [
    "webid = np.array(testing_data['Webpage_id'])"
   ]
  },
  {
   "cell_type": "code",
   "execution_count": 104,
   "metadata": {},
   "outputs": [
    {
     "name": "stdout",
     "output_type": "stream",
     "text": [
      "(25787,)\n",
      "(25787,)\n"
     ]
    }
   ],
   "source": [
    "print(webid.shape)\n",
    "print(label_decoded.shape)\n",
    "w = webid.reshape(-1,1)\n",
    "l = label_decoded.reshape(-1,1)"
   ]
  },
  {
   "cell_type": "code",
   "execution_count": 105,
   "metadata": {},
   "outputs": [],
   "source": [
    "final_output = np.concatenate((w, l),axis = 1 )"
   ]
  },
  {
   "cell_type": "code",
   "execution_count": 106,
   "metadata": {},
   "outputs": [
    {
     "data": {
      "text/plain": [
       "array([[31, 'news'],\n",
       "       [32, 'news'],\n",
       "       [33, 'news'],\n",
       "       [34, 'news']], dtype=object)"
      ]
     },
     "execution_count": 106,
     "metadata": {},
     "output_type": "execute_result"
    }
   ],
   "source": [
    "final_output[:4]"
   ]
  },
  {
   "cell_type": "code",
   "execution_count": 107,
   "metadata": {},
   "outputs": [],
   "source": [
    "np.savetxt('final_output.txt', final_output, fmt='%s')"
   ]
  },
  {
   "cell_type": "code",
   "execution_count": null,
   "metadata": {},
   "outputs": [],
   "source": []
  }
 ],
 "metadata": {
  "kernelspec": {
   "display_name": "Python 3",
   "language": "python",
   "name": "python3"
  }
 },
 "nbformat": 4,
 "nbformat_minor": 2
}
